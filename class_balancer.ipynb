{
  "nbformat": 4,
  "nbformat_minor": 0,
  "metadata": {
    "colab": {
      "name": "class_balancer.ipynb",
      "provenance": [],
      "collapsed_sections": [],
      "machine_shape": "hm"
    },
    "kernelspec": {
      "name": "python3",
      "display_name": "Python 3"
    }
  },
  "cells": [
    {
      "cell_type": "code",
      "metadata": {
        "id": "tvBU_gzDrGHe",
        "colab_type": "code",
        "outputId": "f801d48f-a280-4abc-c642-cbe2c407861d",
        "colab": {
          "base_uri": "https://localhost:8080/",
          "height": 277
        }
      },
      "source": [
        "import os\n",
        "import glob\n",
        "import dill\n",
        "import pathlib\n",
        "import pandas as pd\n",
        "import numpy as np\n",
        "!pip3 install pydub\n",
        "import pydub\n",
        "!pip3 install python_speech_features\n",
        "import python_speech_features\n",
        "import re"
      ],
      "execution_count": 1,
      "outputs": [
        {
          "output_type": "stream",
          "text": [
            "Collecting pydub\n",
            "  Downloading https://files.pythonhosted.org/packages/79/db/eaf620b73a1eec3c8c6f8f5b0b236a50f9da88ad57802154b7ba7664d0b8/pydub-0.23.1-py2.py3-none-any.whl\n",
            "Installing collected packages: pydub\n",
            "Successfully installed pydub-0.23.1\n",
            "Collecting python_speech_features\n",
            "  Downloading https://files.pythonhosted.org/packages/ff/d1/94c59e20a2631985fbd2124c45177abaa9e0a4eee8ba8a305aa26fc02a8e/python_speech_features-0.6.tar.gz\n",
            "Building wheels for collected packages: python-speech-features\n",
            "  Building wheel for python-speech-features (setup.py) ... \u001b[?25l\u001b[?25hdone\n",
            "  Created wheel for python-speech-features: filename=python_speech_features-0.6-cp36-none-any.whl size=5887 sha256=7f652ff063297548289deaae62fc6923fb96c38debb9ecec1f881b3391a09b64\n",
            "  Stored in directory: /root/.cache/pip/wheels/3c/42/7c/f60e9d1b40015cd69b213ad90f7c18a9264cd745b9888134be\n",
            "Successfully built python-speech-features\n",
            "Installing collected packages: python-speech-features\n",
            "Successfully installed python-speech-features-0.6\n"
          ],
          "name": "stdout"
        }
      ]
    },
    {
      "cell_type": "code",
      "metadata": {
        "id": "Foew3S_crSp1",
        "colab_type": "code",
        "outputId": "878c513f-87d6-4ff4-95f8-b41ed1f59b34",
        "colab": {
          "base_uri": "https://localhost:8080/",
          "height": 129
        }
      },
      "source": [
        "from google.colab import drive\n",
        "drive.mount('/content/drive', force_remount=True)"
      ],
      "execution_count": 2,
      "outputs": [
        {
          "output_type": "stream",
          "text": [
            "Go to this URL in a browser: https://accounts.google.com/o/oauth2/auth?client_id=947318989803-6bn6qk8qdgf4n4g3pfee6491hc0brc4i.apps.googleusercontent.com&redirect_uri=urn%3aietf%3awg%3aoauth%3a2.0%3aoob&response_type=code&scope=email%20https%3a%2f%2fwww.googleapis.com%2fauth%2fdocs.test%20https%3a%2f%2fwww.googleapis.com%2fauth%2fdrive%20https%3a%2f%2fwww.googleapis.com%2fauth%2fdrive.photos.readonly%20https%3a%2f%2fwww.googleapis.com%2fauth%2fpeopleapi.readonly\n",
            "\n",
            "Enter your authorization code:\n",
            "··········\n",
            "Mounted at /content/drive\n"
          ],
          "name": "stdout"
        }
      ]
    },
    {
      "cell_type": "code",
      "metadata": {
        "id": "apieZfiV5zvT",
        "colab_type": "code",
        "colab": {}
      },
      "source": [
        "base_folder = pathlib.Path(\"/content/drive/My Drive/validated_clips/validated_clip/\")\n",
        "out_folder =  pathlib.Path(\"/content/drive/My Drive/validated_clips/preprocessed/\")\n",
        "outfiles = os.listdir(out_folder)\n",
        "already_done = set()\n",
        "\n",
        "for file in outfiles:\n",
        "  thing = re.compile('[a-z]')\n",
        "  already_done.add(file[:thing.search(file).start()])\n",
        "\n",
        "folders = os.listdir(base_folder)"
      ],
      "execution_count": 0,
      "outputs": []
    },
    {
      "cell_type": "markdown",
      "metadata": {
        "colab_type": "text",
        "id": "btH2JEquALtd"
      },
      "source": [
        "#fixing preprocessing"
      ]
    },
    {
      "cell_type": "code",
      "metadata": {
        "id": "jAN5D96DdyuC",
        "colab_type": "code",
        "colab": {}
      },
      "source": [
        "preprocessed_folder = pathlib.Path('/content/drive/My Drive/validated_clips/preprocessed/')\n"
      ],
      "execution_count": 0,
      "outputs": []
    },
    {
      "cell_type": "code",
      "metadata": {
        "id": "XT0Yq6sVaZI_",
        "colab_type": "code",
        "colab": {
          "base_uri": "https://localhost:8080/",
          "height": 35
        },
        "outputId": "bf383b58-f655-4c18-e9af-3369b0646483"
      },
      "source": [
        "from random import randrange\n",
        "print(randrange(50))"
      ],
      "execution_count": 8,
      "outputs": [
        {
          "output_type": "stream",
          "text": [
            "5\n"
          ],
          "name": "stdout"
        }
      ]
    },
    {
      "cell_type": "code",
      "metadata": {
        "id": "WfVNmrc3LfDa",
        "colab_type": "code",
        "colab": {
          "base_uri": "https://localhost:8080/",
          "height": 386
        },
        "outputId": "73dc2750-d510-4585-c6a8-1a98b4385208"
      },
      "source": [
        "counter={\"england\":{\"female\":0, \"male\":0}, \"indian\":{\"female\":0, \"male\":0}, \"us\":{\"female\":0, \"male\":0}, \"scotland\":{\"female\":0, \"male\":0}, \"australia\":{\"female\":0, \"male\":0}}\n",
        "\n",
        "NUM_FOLDERS_PLUS1 = 209\n",
        "MAX_RECORDINGS_THRESHOLD = 164  # based on num females in AUS\n",
        "\n",
        "single_mfcc =[]\n",
        "single_label=[]\n",
        "single_path=[]\n",
        "single_gender=[]\n",
        "single_speaker=[]\n",
        "for folder_num in range(1,NUM_FOLDERS_PLUS1):\n",
        "  number = '{:.6f}'.format(folder_num)\n",
        "  mfcc_filename = number+\"mfcc_5accents.pkl\"\n",
        "  label_filename = number+\"label_5accents.pkl\"\n",
        "  paths_filename = number+\"path_5accents.pkl\"\n",
        "  genders_filename = number+\"genders_5accents.pkl\"\n",
        "  speakers_filename = number+\"speakers_5accents.pkl\"\n",
        "  mfcc_filepath = preprocessed_folder / mfcc_filename\n",
        "  label_filepath = preprocessed_folder / label_filename\n",
        "  paths_filepath = preprocessed_folder / paths_filename\n",
        "  genders_filepath = preprocessed_folder / genders_filename\n",
        "  speakers_filepath = preprocessed_folder / speakers_filename\n",
        "\n",
        "  with open(mfcc_filepath, \"rb\") as f:\n",
        "    mfcc_local = dill.load(f)\n",
        "  with open(label_filepath, \"rb\") as f:\n",
        "    label_local = dill.load(f)\n",
        "  with open(paths_filepath , \"rb\") as f:\n",
        "    path_local = dill.load(f)\n",
        "  with open(genders_filepath , \"rb\") as f:\n",
        "    gender_local = dill.load(f)\n",
        "  with open(speakers_filepath , \"rb\") as f:\n",
        "    speaker_local = dill.load(f)\n",
        "\n",
        "\n",
        "  for key in label_local:\n",
        "    if randrange(20) == 5:\n",
        "      print(\"I'm still running!\")\n",
        "    for i in range(len(label_local[key])):\n",
        "      label = label_local[key][i]\n",
        "      gender = gender_local[key][i]\n",
        "\n",
        "      if label == \"scotland\":\n",
        "        continue\n",
        "\n",
        "      if gender == \"other\" or isinstance(gender, float):\n",
        "        #print(gender)\n",
        "        continue\n",
        "      #print(label, gender, type(gender))\n",
        "      if counter[label][gender] < MAX_RECORDINGS_THRESHOLD:\n",
        "        #print(label, gender)\n",
        "        single_mfcc.append(mfcc_local[key][i])\n",
        "        single_label.append(label_local[key][i])\n",
        "        single_path.append(path_local[key][i])\n",
        "        single_gender.append(gender_local[key][i])\n",
        "        single_speaker.append(speaker_local[key][i])\n",
        "        counter[label][gender]+=1"
      ],
      "execution_count": 0,
      "outputs": [
        {
          "output_type": "stream",
          "text": [
            "I'm still running!\n",
            "I'm still running!\n",
            "I'm still running!\n",
            "I'm still running!\n",
            "I'm still running!\n",
            "I'm still running!\n",
            "I'm still running!\n",
            "I'm still running!\n",
            "I'm still running!\n",
            "I'm still running!\n",
            "I'm still running!\n",
            "I'm still running!\n",
            "I'm still running!\n",
            "I'm still running!\n",
            "I'm still running!\n",
            "I'm still running!\n",
            "I'm still running!\n",
            "I'm still running!\n",
            "I'm still running!\n",
            "I'm still running!\n"
          ],
          "name": "stdout"
        }
      ]
    },
    {
      "cell_type": "code",
      "metadata": {
        "id": "RiHHP9fXTFHv",
        "colab_type": "code",
        "colab": {}
      },
      "source": [
        "#from collections import Counter\n",
        "counter"
      ],
      "execution_count": 0,
      "outputs": []
    },
    {
      "cell_type": "code",
      "metadata": {
        "id": "X47HTPE4akfG",
        "colab_type": "code",
        "colab": {}
      },
      "source": [
        "data = {\n",
        "  'mfccs':    single_mfcc,\n",
        "  'labels':   single_label,\n",
        "  'paths':    single_path,\n",
        "  'genders':   single_gender,\n",
        "  'speakers':  single_speaker\n",
        "}\n",
        "\n",
        "data_path = \"/content/drive/My Drive/validated_clips/balanced_classes/balanced_classes2.pkl\""
      ],
      "execution_count": 0,
      "outputs": []
    },
    {
      "cell_type": "code",
      "metadata": {
        "id": "z3jeB431axsd",
        "colab_type": "code",
        "colab": {}
      },
      "source": [
        "with open(data_path , \"wb\") as f:\n",
        "  dill.dump(data, f)"
      ],
      "execution_count": 0,
      "outputs": []
    },
    {
      "cell_type": "code",
      "metadata": {
        "id": "PZHvXc0rbOP-",
        "colab_type": "code",
        "colab": {}
      },
      "source": [
        ""
      ],
      "execution_count": 0,
      "outputs": []
    }
  ]
}