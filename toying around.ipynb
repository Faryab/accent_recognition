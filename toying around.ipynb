{
 "cells": [
  {
   "cell_type": "markdown",
   "metadata": {},
   "source": [
    "### Import all packages"
   ]
  },
  {
   "cell_type": "code",
   "execution_count": 4,
   "metadata": {},
   "outputs": [],
   "source": [
    "# from hw2\n",
    "import pydub\n",
    "from pydub import AudioSegment\n",
    "import pydub\n",
    "from pydub.playback import play\n",
    "from python_speech_features import mfcc\n",
    "from python_speech_features import logfbank\n",
    "from sklearn.model_selection import train_test_split\n",
    "from sklearn.metrics import accuracy_score\n",
    "from time import sleep\n",
    "import scipy.io.wavfile as wav\n",
    "from glob import glob\n",
    "import seaborn as sns\n",
    "import matplotlib.pyplot as plt\n",
    "%matplotlib inline"
   ]
  },
  {
   "cell_type": "code",
   "execution_count": 5,
   "metadata": {},
   "outputs": [],
   "source": [
    "import numpy as np\n",
    "import pandas as pd\n",
    "import torch"
   ]
  },
  {
   "cell_type": "markdown",
   "metadata": {},
   "source": [
    "### Preparing the dataset"
   ]
  },
  {
   "cell_type": "code",
   "execution_count": 114,
   "metadata": {},
   "outputs": [],
   "source": [
    "downloaded_files = glob(f\"./data/audios/*.mp3\")\n",
    "num_downloaded_files = len(downloaded_files)"
   ]
  },
  {
   "cell_type": "code",
   "execution_count": 97,
   "metadata": {},
   "outputs": [],
   "source": [
    "dev = pd.read_csv(\"./data/tsvs/dev.tsv\", sep=\"\\t\")\n",
    "train = pd.read_csv(\"./data/tsvs/train.tsv\", sep=\"\\t\")\n",
    "test = pd.read_csv(\"./data/tsvs/test.tsv\", sep=\"\\t\")\n",
    "validated = pd.read_csv(\"./data/tsvs/validated.tsv\", sep=\"\\t\")\n",
    "invalidated = pd.read_csv(\"./data/tsvs/invalidated.tsv\", sep=\"\\t\")\n",
    "\n",
    "splits = {\n",
    "    \"dev\": dev,\n",
    "    \"train\": train, \n",
    "    \"test\": test,\n",
    "    \"validated\": validated,\n",
    "    \"invalidated\": invalidated\n",
    "}"
   ]
  },
  {
   "cell_type": "markdown",
   "metadata": {},
   "source": [
    "#### Fix the paths"
   ]
  },
  {
   "cell_type": "code",
   "execution_count": 98,
   "metadata": {},
   "outputs": [],
   "source": [
    "prefix = \"./data/audios/\"\n",
    "for key in splits:\n",
    "    splits[key]['path'] = prefix + splits[key]['path'].astype(str)"
   ]
  },
  {
   "cell_type": "markdown",
   "metadata": {},
   "source": [
    "#### Drop the rows with NaN accent values"
   ]
  },
  {
   "cell_type": "code",
   "execution_count": 99,
   "metadata": {},
   "outputs": [
    {
     "name": "stdout",
     "output_type": "stream",
     "text": [
      "15531\n",
      "232975\n",
      "15531\n",
      "218400\n",
      "124820\n"
     ]
    }
   ],
   "source": [
    "for key in splits:\n",
    "    print(len(splits[key]))"
   ]
  },
  {
   "cell_type": "code",
   "execution_count": 100,
   "metadata": {},
   "outputs": [
    {
     "name": "stdout",
     "output_type": "stream",
     "text": [
      "2100\n",
      "135391\n",
      "1398\n",
      "46169\n",
      "46728\n"
     ]
    }
   ],
   "source": [
    "for key in splits:\n",
    "    splits[key].dropna(axis=0, subset=[\"accent\"], inplace=True)\n",
    "    print(len(splits[key]))"
   ]
  },
  {
   "cell_type": "markdown",
   "metadata": {},
   "source": [
    "#### Choose the data we've actually downloaded"
   ]
  },
  {
   "cell_type": "code",
   "execution_count": 101,
   "metadata": {},
   "outputs": [
    {
     "name": "stdout",
     "output_type": "stream",
     "text": [
      "2\n",
      "414\n",
      "2\n",
      "41\n",
      "76\n"
     ]
    }
   ],
   "source": [
    "for key in splits:\n",
    "    splits[key] = splits[key][splits[key][\"path\"].isin(downloaded_files)]\n",
    "    print(len(splits[key]))"
   ]
  },
  {
   "cell_type": "markdown",
   "metadata": {},
   "source": [
    "#### Make sure speaker independent and validated"
   ]
  },
  {
   "cell_type": "code",
   "execution_count": 107,
   "metadata": {},
   "outputs": [
    {
     "data": {
      "text/plain": [
       "0"
      ]
     },
     "execution_count": 107,
     "metadata": {},
     "output_type": "execute_result"
    }
   ],
   "source": [
    "len(splits['train'][splits['train'][\"client_id\"].isin(splits['test']['client_id'])])"
   ]
  },
  {
   "cell_type": "code",
   "execution_count": 108,
   "metadata": {},
   "outputs": [
    {
     "data": {
      "text/plain": [
       "0"
      ]
     },
     "execution_count": 108,
     "metadata": {},
     "output_type": "execute_result"
    }
   ],
   "source": [
    "len(splits['train'][splits['train'][\"client_id\"].isin(splits['dev']['client_id'])])"
   ]
  },
  {
   "cell_type": "code",
   "execution_count": 118,
   "metadata": {},
   "outputs": [
    {
     "name": "stdout",
     "output_type": "stream",
     "text": [
      "Wow, we only end up with 37 training, 2 test and 2 dev audio files from the 900 files we started with!\n"
     ]
    }
   ],
   "source": [
    "num_train = len(splits['train'][splits['train'][\"client_id\"].isin(splits['validated']['client_id'])])\n",
    "num_test = len(splits['test'][splits['test'][\"client_id\"].isin(splits['validated']['client_id'])])\n",
    "num_dev = len(splits['dev'][splits['dev'][\"client_id\"].isin(splits['validated']['client_id'])])\n",
    "\n",
    "print(f\"Wow, we only end up with {num_train} training, {num_test} test and {num_dev} dev audio files from the {num_downloaded_files} files we started with!\")"
   ]
  },
  {
   "cell_type": "markdown",
   "metadata": {},
   "source": [
    "#### For the purposes of this toy example we forgoe using only the validated clips and assume all clips are good. "
   ]
  },
  {
   "cell_type": "markdown",
   "metadata": {},
   "source": [
    "#### Lets take a look at some of our data"
   ]
  },
  {
   "cell_type": "code",
   "execution_count": 140,
   "metadata": {},
   "outputs": [],
   "source": [
    "# visualize categorical data https://www.datacamp.com/community/tutorials/categorical-data\n",
    "def visualize_categorical_distribution(pd_series, title=\"Plot\", ylabel='Number of Samples', xlabel='Accent', figsize=None):\n",
    "    digit_counts = pd_series.value_counts()\n",
    "    sns.set(style=\"darkgrid\")\n",
    "    if figsize is None:\n",
    "        sns.set(rc={'figure.figsize':(10,6)})\n",
    "    else:\n",
    "        sns.set(rc={'figure.figsize':figsize})\n",
    "    sns.barplot(digit_counts.index, digit_counts.values, alpha=0.9)\n",
    "    plt.title(title)\n",
    "    plt.ylabel(ylabel, fontsize=12)\n",
    "    plt.xlabel(xlabel, fontsize=12)\n",
    "    plt.show()"
   ]
  },
  {
   "cell_type": "code",
   "execution_count": 141,
   "metadata": {},
   "outputs": [
    {
     "data": {
      "image/png": "[encoded data removed]",
      "text/plain": [
       "<Figure size 720x432 with 1 Axes>"
      ]
     },
     "metadata": {},
     "output_type": "display_data"
    }
   ],
   "source": [
    "visualize_categorical_distribution(splits[\"train\"][\"accent\"], \"Train Distribution\")"
   ]
  },
  {
   "cell_type": "code",
   "execution_count": 142,
   "metadata": {},
   "outputs": [
    {
     "data": {
      "image/png": "[encoded data removed]",
      "text/plain": [
       "<Figure size 216x288 with 1 Axes>"
      ]
     },
     "metadata": {},
     "output_type": "display_data"
    }
   ],
   "source": [
    "visualize_categorical_distribution(splits[\"test\"][\"accent\"], \"Test Distribution\", figsize=(3,4))"
   ]
  },
  {
   "cell_type": "markdown",
   "metadata": {},
   "source": [
    "# Yikes"
   ]
  },
  {
   "cell_type": "markdown",
   "metadata": {},
   "source": [
    "#### Lets start adding our actual audio files to the dataset"
   ]
  },
  {
   "cell_type": "code",
   "execution_count": null,
   "metadata": {},
   "outputs": [],
   "source": []
  },
  {
   "cell_type": "code",
   "execution_count": null,
   "metadata": {},
   "outputs": [],
   "source": []
  },
  {
   "cell_type": "code",
   "execution_count": null,
   "metadata": {},
   "outputs": [],
   "source": []
  },
  {
   "cell_type": "markdown",
   "metadata": {},
   "source": [
    "#### TODO: Creating our Toy Models"
   ]
  },
  {
   "cell_type": "code",
   "execution_count": null,
   "metadata": {},
   "outputs": [],
   "source": []
  }
 ],
 "metadata": {
  "kernelspec": {
   "display_name": "Python 3",
   "language": "python",
   "name": "python3"
  },
  "language_info": {
   "codemirror_mode": {
    "name": "ipython",
    "version": 3
   },
   "file_extension": ".py",
   "mimetype": "text/x-python",
   "name": "python",
   "nbconvert_exporter": "python",
   "pygments_lexer": "ipython3",
   "version": "3.7.6"
  }
 },
 "nbformat": 4,
 "nbformat_minor": 4
}
