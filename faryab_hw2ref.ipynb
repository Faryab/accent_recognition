{
 "cells": [
  {
   "cell_type": "markdown",
   "metadata": {},
   "source": [
    "#### This assignment consists of three parts: Part 1, Part 2 and Part 3. Part 1 are questions on probability. Part 2 is a toy problem to get you started with performing HMM using code from scratch. Part 2 is a HMM experiment on a real world dataset.\n",
    "\n",
    "#### We have also created a Python Cheatsheets folder on canvas to go along with the homework. It has basic cheatsheets to get started with jupyter notebook, sklearn, pandas, matplotlib, and, python basics. There is also going to be a [google document : linked](https://docs.google.com/document/u/1/d/1z7HEURIaF_V6Aa5ulQkApxzUFO48kjLXsNAFBesrO5g/edit?usp=sharing) based on questions asked by the students during office hours/piazza/class. This google doc will remain live through the course of the semester, and hence can be referred to at anytime.\n",
    "\n",
    "#### Remember that a lot of machine learning work requires you to look around, fork repositories, read documentation and test code snippets. It is a good idea to spend some time learning how to google for what you are looking for. Do not copy logic and code from sources, but know how to find the right toolkit, its usage and expected outputs.\n",
    "\n",
    "---"
   ]
  },
  {
   "cell_type": "markdown",
   "metadata": {},
   "source": [
    "#### Setup (these setup instructions assume that you completed the setup from last assignment):\n",
    " 1. Do pip3 pydub.\n",
    " 2. Do pip3 python_speech_features.\n",
    "\n",
    "#### You can start jupyter using jupyter notebook in your terminal.\n",
    "\n",
    "---"
   ]
  },
  {
   "cell_type": "markdown",
   "metadata": {},
   "source": [
    "#### Instructions for submission:\n",
    "1. Complete the python notebook.We have added cells to prompt where you should be adding code or text answers. Please do not edit any other cells. You can add any number cells that you want to accomplish your work.\n",
    "2. Jupyter Notebook allows you to write text in markdown. The text answers don’t need to be in markdown though for your evaluation (it just looks pretty!)\n",
    "3. Please turn in your python notebook that has been run completely on Canvas. Along with that, you also need to submit the pdf version of your notebook on gradescope.\n",
    "4. To create the pdf version, in the jupyter notebook, go to File -> Download As -> PDF via LaTex (.pdf)\n",
    "5. For the answers that you need to write by hand, you can either write in LaTex in Markdown, or write on paper (cleanly), and upload as images to [ImgBB](https://imgbb.com/), and then paste the link in the relavant boxes.\n",
    "\n",
    "#### In all cases, code your solutions using Python 3. There are three late days available for this assignment. The penalty is 10% per day late.\n",
    "\n",
    "---"
   ]
  },
  {
   "cell_type": "markdown",
   "metadata": {},
   "source": [
    "### Part 1: Probability"
   ]
  },
  {
   "cell_type": "markdown",
   "metadata": {},
   "source": [
    "#### 1.1 A binary source generates digits 1 and 0 randomly with probabilities 0.6 and 0.4, respectively."
   ]
  },
  {
   "cell_type": "markdown",
   "metadata": {},
   "source": [
    "#### 1.1.1 What is the probability that two 1s and three 0s will occur in a five-digit sequence?\n",
    "&nbsp;"
   ]
  },
  {
   "cell_type": "markdown",
   "metadata": {},
   "source": [
    "Let X be a random variable denoting the number of 1's in a five-digit sequence. X is a binomial random variable with parameters (n=5, p=0.6). Thus the probability that there will be two 1's and three 0's is:\n",
    "$$P(X=2) = {5 \\choose 2} (0.6)^{2}(0.4)^3 = 0.2304$$"
   ]
  },
  {
   "cell_type": "markdown",
   "metadata": {},
   "source": [
    "#### 1.1.2 What is the probability that at least three 1s will occur in a five-digit sequence?\n",
    "&nbsp;"
   ]
  },
  {
   "cell_type": "markdown",
   "metadata": {},
   "source": [
    "Using the same X as above. \n",
    "$$P(X \\geq 3) = P(X=3) + P(X=4) + P(X=5) = {5 \\choose 3} (0.6)^3(0.4)^2 + {5 \\choose 4} (0.6)^4(0.4)^1 + {5 \\choose 5} (0.6)^{5}(0.4)^1 = 0.68259$$"
   ]
  },
  {
   "cell_type": "markdown",
   "metadata": {},
   "source": [
    "#### 1.2 Let $X$, a random variable, be the outcome associated with throwing a fair die.  What is the mean and variance of $X$?\n",
    "&nbsp;"
   ]
  },
  {
   "cell_type": "markdown",
   "metadata": {},
   "source": [
    "$$E[X] = \\dfrac{1+2+3+4+5+6}{6} = 3.5$$\n",
    "$$Var(X) = E[X^2] - E[X]^2 = \\dfrac{1^2+2^2+3^2+4^2+5^2+6^2}{6} - 3.5^2 = \\dfrac{35}{12}$$"
   ]
  },
  {
   "cell_type": "markdown",
   "metadata": {},
   "source": [
    "#### 1.3 Let $X$ be a continuous random variable, $X$, with distribution: $f_{X}(x) = kx \\:\\:for \\:\\:0 < x < 1 \\:(and \\:0 \\:otherwise)$.  Find the mean and variance of $X$.\n",
    "&nbsp;"
   ]
  },
  {
   "cell_type": "markdown",
   "metadata": {},
   "source": [
    "$$ E[X] = \\int^1_0 xf(x) dx = \\int^1_0 x(kx) dx = k\\int^1_0 x^2 dx = \\dfrac{k}{3} $$\n",
    "\n",
    "$$ Var(X) = E[X^2] = E[X]^2 = \\int^1_0 x^2(kx) dx - \\dfrac{k}{3}^2= \\dfrac{k}{4} - \\dfrac{k^2}{9} $$"
   ]
  },
  {
   "cell_type": "markdown",
   "metadata": {},
   "source": [
    "#### 1.4 The joint distribution of random variables $X$ and $Y$ is: $p_{XY}(x_{i}, y_{j}) = kx_{i}y_{j}$ \tfor $x_{i} = 1, 2,\\, y_{j} = 1, 2, 3\\: and\\, k\\, constant\\, (0 \\,otherwise)$\n",
    "&nbsp;"
   ]
  },
  {
   "cell_type": "markdown",
   "metadata": {},
   "source": [
    "#### 1.4.1 Find the value of k.\n",
    "&nbsp;"
   ]
  },
  {
   "cell_type": "markdown",
   "metadata": {},
   "source": [
    "The probabilities must sum to 1. $$ 1 = k(1 +2 + 3 + 2 + 4 + 6) \\therefore k = \\dfrac{1}{18}$$"
   ]
  },
  {
   "cell_type": "markdown",
   "metadata": {},
   "source": [
    "#### 1.4.2 Find the marginal distributions of $X$ and $Y$.\n",
    "&nbsp;"
   ]
  },
  {
   "cell_type": "markdown",
   "metadata": {},
   "source": [
    "For X:\n",
    "$$p_X(x=1) = \\dfrac{1}{18}(1+2+3) = \\dfrac{1}{3}, p_X(x=2) = \\dfrac{1}{18}(2+4+3) = \\dfrac{2}{3}$$\n",
    "For Y:\n",
    "$$p_Y(y=1) = \\dfrac{1}{18}(1+2) = \\dfrac{1}{6}, p_Y(y=2) = \\dfrac{1}{18}(2+4) = \\dfrac{2}{6}, p_Y(y=3) = \\dfrac{1}{18}(3+6) = \\dfrac{3}{6}$$"
   ]
  },
  {
   "cell_type": "markdown",
   "metadata": {},
   "source": [
    "#### 1.4.3 Are $X$ and $Y$ independent?\n",
    "&nbsp;"
   ]
  },
  {
   "cell_type": "markdown",
   "metadata": {},
   "source": [
    "Yes. $$ \\forall x\\in X, \\forall y\\in Y, P(X=x, Y=y) = P(X=x)\\cdot P(Y=y)$$"
   ]
  },
  {
   "cell_type": "markdown",
   "metadata": {},
   "source": [
    "#### 1.4.4 Find the conditional distributions $p_{Y|X}(y_{j}\\:|\\:x_{i})$ and $p_{X|Y}(x_{i}\\:|\\:y_{j})$\n",
    "&nbsp;"
   ]
  },
  {
   "cell_type": "markdown",
   "metadata": {},
   "source": [
    "Due to independence, $p_{Y|X} = p_Y, p_{X|Y} = p_X$."
   ]
  },
  {
   "cell_type": "markdown",
   "metadata": {},
   "source": [
    "#### 1.5 The joint distribution of random variables $X$ and $Y$ is: $p_{XY}(x_{i}, y_{j}) = k(x+y)\\:\\: for \\:\\: 0<x<2,\\:0<y<2,\\:and\\:k\\:constant\\:(0\\:otherwise)$\n",
    "&nbsp;"
   ]
  },
  {
   "cell_type": "markdown",
   "metadata": {},
   "source": [
    "#### 1.5.1 Find the value of $k$.\n",
    "&nbsp;"
   ]
  },
  {
   "cell_type": "markdown",
   "metadata": {},
   "source": [
    "The probabilities must sum to 1. $$ 1 = \\int^2_0 \\int^2_0 kx + ky\\,dxdy = \\int^2_0 2(ky+k)\\,dy = 8k \\therefore k = \\dfrac{1}{8}$$"
   ]
  },
  {
   "cell_type": "markdown",
   "metadata": {},
   "source": [
    "#### 1.5.2 Find the marginal distributions of $X$ and $Y$.\n",
    "&nbsp;"
   ]
  },
  {
   "cell_type": "markdown",
   "metadata": {},
   "source": [
    "$$p_X(x) = \\int^2_0 f(x,y)\\,dy = \\int^2_0 k(x+y)\\,dy = 2\\left(kx+k\\right) $$\n",
    "$$p_Y(y) = \\int^2_0 f(x,y)\\,dx = \\int^2_0 k(x+y)\\,dx = 2\\left(ky+k\\right) $$"
   ]
  },
  {
   "cell_type": "markdown",
   "metadata": {},
   "source": [
    "#### 1.5.3 Are $X$ and $Y$ independent?\n",
    "&nbsp;"
   ]
  },
  {
   "cell_type": "markdown",
   "metadata": {},
   "source": [
    "$$p_X(x)\\cdot p_Y(y) = 2\\left(kx+k\\right)\\cdot2\\left(ky+k\\right) = 4k(x+1)(y+1) \\neq k(x+y) = p_{XY}(x,y)$$\n",
    "NOT independent."
   ]
  },
  {
   "cell_type": "markdown",
   "metadata": {},
   "source": [
    "#### 1.5.4 Find the conditional distributions $f_{Y|X}(y_{j}\\,|\\,x_{i})$ and $f_{X|Y}(x_{i}\\,|\\,y_{j})$\n",
    "&nbsp;"
   ]
  },
  {
   "cell_type": "markdown",
   "metadata": {},
   "source": [
    "$$f_{Y|X}(y_{j}\\,|\\,x_{i})= \\dfrac{f_{Y,X}(y,x)}{f_X(x)} = \\dfrac{k(x+y)}{2k(x+1)} = \\dfrac{(x+y)}{2(x+1)} $$\n",
    "\n",
    "$$f_{X|Y}(x_{j}\\,|\\,y_{i})= \\dfrac{f_{Y,X}(y,x)}{f_Y(y)} = \\dfrac{k(x+y)}{2k(y+1)} = \\dfrac{(x+y)}{2(y+1)} $$"
   ]
  },
  {
   "cell_type": "markdown",
   "metadata": {},
   "source": [
    "#### 1.5.5 Find $P(0<Y<\\frac{1}{2}\\:|\\: X = 1)$\n",
    "&nbsp;"
   ]
  },
  {
   "cell_type": "markdown",
   "metadata": {},
   "source": [
    "$$P\\left(0<Y<\\frac{1}{2}\\:|\\: X = 1\\right) = \\int^{\\frac{1}{2}}_0 f_{Y|X=1}(y\\,|\\,x=1)\\,dy = \\int^{\\frac{1}{2}}_0 \\dfrac{(1+y)}{2(y+1)} \\,dy = \\dfrac{1}{4}$$"
   ]
  },
  {
   "cell_type": "code",
   "execution_count": 126,
   "metadata": {},
   "outputs": [],
   "source": [
    "#Imports\n",
    "import numpy as np\n",
    "import pandas as pd"
   ]
  },
  {
   "cell_type": "markdown",
   "metadata": {},
   "source": [
    "---\n",
    "### Part 2: Hidden Markov Models (HMMs)"
   ]
  },
  {
   "cell_type": "markdown",
   "metadata": {},
   "source": [
    "#### In this section you will code the forward, backward, and Viterbi algorithms.  The goal is to understand how these algorithms are used and then benefits of each.  \n",
    "\n",
    "#### You have two possible models, model 1 and model 2.  You would like to figure out which model is more likely given the data and you would like to identify the underlying state sequence.  \n",
    "\n",
    "#### You have observed the pitch of a speaker.  You decided to bin the pitch into three categories: low (1), medium (2) and high (3). "
   ]
  },
  {
   "cell_type": "markdown",
   "metadata": {},
   "source": [
    "#### HMM Model: [link](https://ibb.co/JpXXmxj)"
   ]
  },
  {
   "cell_type": "markdown",
   "metadata": {},
   "source": [
    "#### Your observation vector is Ō = _[1 2 2 1 1 3 3]_."
   ]
  },
  {
   "cell_type": "markdown",
   "metadata": {},
   "source": [
    "#### Each model is a three state model and the two models have the same transition probabilities (shown in the figure).  You always start in state 1."
   ]
  },
  {
   "cell_type": "markdown",
   "metadata": {},
   "source": [
    "#### The observation probabilities are as follows:\n",
    "| State ||         $\\lambda_{1}$           |||         $\\lambda_{2}$         ||\n",
    "|:-----:|:----:|:----:|:----:|:----:|:---:|:---:|\n",
    "|       | high |  med |  low | high | med | low |\n",
    "|   1   |  0.7 | 0.25 | 0.05 |  0.5 | 0.4 | 0.1 |\n",
    "|   2   |  0.6 |  0.3 |  0.1 |  0.1 | 0.6 | 0.3 |\n",
    "|   3   |  0.2 |  0.3 |  0.5 |  0.1 | 0.3 | 0.6 |"
   ]
  },
  {
   "cell_type": "markdown",
   "metadata": {},
   "source": [
    "#### 2.1 Implement the forward algoirthm:"
   ]
  },
  {
   "cell_type": "code",
   "execution_count": 414,
   "metadata": {},
   "outputs": [
    {
     "name": "stdout",
     "output_type": "stream",
     "text": [
      "[0 1 1 0 0 2 2]\n",
      "(7,)\n",
      "(3, 3)\n",
      "(3, 3)\n",
      "(3, 3)\n",
      "(3,)\n"
     ]
    }
   ],
   "source": [
    "# https://www.youtube.com/watch?v=7zDARfKVm7s&list=PLD0F06AA0D2E8FFBA&index=100\n",
    "\n",
    "observations = np.array([1,2,2,1,1,3,3])\n",
    "# fix for python\n",
    "observations = observations - 1\n",
    "print(observations)\n",
    "# Transition Probabilities (state | state - 1 )\n",
    "a = np.array([[0.75, 0.25, 0], #  state 1\n",
    "              [0, 0.5, 0.5], #  state 2\n",
    "              [0, 0, 1]]) #  state 3\n",
    " \n",
    "# Emission Probabilities (observations | state)\n",
    "b1 = np.array([[0.05, 0.25, 0.7], #  state 1\n",
    "               [0.1, 0.3, 0.6], #  state 2\n",
    "               [0.5, 0.3, 0.2]]) #  state 3\n",
    "b2 = np.array([[0.1, 0.4, 0.5], #  state 1\n",
    "               [0.3, 0.6, 0.1], #  state 2\n",
    "               [0.6, 0.3, 0.1]]) #  state 3\n",
    " \n",
    "# Initial distribution\n",
    "priors = np.array([1, 0, 0]) # always start in state 1\n",
    "\n",
    "print(observations.shape)\n",
    "print(a.shape)\n",
    "print(b1.shape)\n",
    "print(b2.shape)\n",
    "print(priors.shape)"
   ]
  },
  {
   "cell_type": "code",
   "execution_count": 131,
   "metadata": {},
   "outputs": [
    {
     "name": "stdout",
     "output_type": "stream",
     "text": [
      "[[5.00000000e-02 0.00000000e+00 0.00000000e+00]\n",
      " [9.37500000e-03 3.75000000e-03 0.00000000e+00]\n",
      " [1.75781250e-03 1.26562500e-03 5.62500000e-04]\n",
      " [6.59179688e-05 1.07226563e-04 5.97656250e-04]\n",
      " [2.47192383e-06 7.00927734e-06 3.25634766e-04]\n",
      " [1.29776001e-06 2.47357178e-06 6.58278809e-05]\n",
      " [6.81324005e-07 9.36735535e-07 1.34129333e-05]] \n",
      "\n",
      " [[1.00000000e-01 0.00000000e+00 0.00000000e+00]\n",
      " [3.00000000e-02 1.50000000e-02 0.00000000e+00]\n",
      " [9.00000000e-03 9.00000000e-03 2.25000000e-03]\n",
      " [6.75000000e-04 2.02500000e-03 4.05000000e-03]\n",
      " [5.06250000e-05 3.54375000e-04 3.03750000e-03]\n",
      " [1.89843750e-05 1.89843750e-05 3.21468750e-04]\n",
      " [7.11914063e-06 1.42382813e-06 3.30960938e-05]]\n"
     ]
    }
   ],
   "source": [
    "def forward(O, A, B, priors):\n",
    "    num_obs = O.shape[0]\n",
    "    num_states = A.shape[0]\n",
    "    alpha = np.zeros((num_obs, num_states))\n",
    "    alpha[0, :] = priors * B[:, O[0]]\n",
    "    \n",
    "    # Summations\n",
    "    for t in range(1, num_obs): \n",
    "        for s in range(num_states):\n",
    "            alpha[t, s] = alpha[t - 1].dot(A[:, s]) * B[s, O[t]]\n",
    " \n",
    "    return alpha\n",
    " \n",
    "alpha1 = forward(observations, a, b1, priors)\n",
    "alpha2 = forward(observations, a, b2, priors)\n",
    "print(alpha1,\"\\n\\n\", alpha2)"
   ]
  },
  {
   "cell_type": "markdown",
   "metadata": {},
   "source": [
    "#### 2.1.1 Calculate $\\alpha_{1}$ to $\\alpha_{3}$ by hand.\n",
    "&nbsp;"
   ]
  },
  {
   "cell_type": "code",
   "execution_count": 132,
   "metadata": {},
   "outputs": [
    {
     "name": "stdout",
     "output_type": "stream",
     "text": [
      "alpha 1 | model 1: [[0.05 0.   0.  ]]\n",
      "alpha 1 | model 2: [[0.1 0.  0. ]]\n",
      "alpha 3 | model 1: [[0.009375 0.00375  0.      ]]\n",
      "alpha 3 | model 2: [[0.03  0.015 0.   ]]\n",
      "alpha 3 | model 1: [[0.00175781 0.00126563 0.0005625 ]]\n",
      "alpha 3 | model 2: [[0.009   0.009   0.00225]]\n"
     ]
    }
   ],
   "source": [
    "#(From Piazza Post, we can use the output of our algorithm)\n",
    "\n",
    "print(f\"alpha 1 | model 1: {alpha1[0:1, :]}\")\n",
    "print(f\"alpha 1 | model 2: {alpha2[0:1, :]}\")\n",
    "\n",
    "print(f\"alpha 3 | model 1: {alpha1[1:2, :]}\")\n",
    "print(f\"alpha 3 | model 2: {alpha2[1:2, :]}\")\n",
    "\n",
    "print(f\"alpha 3 | model 1: {alpha1[2:3, :]}\")\n",
    "print(f\"alpha 3 | model 2: {alpha2[2:3, :]}\")"
   ]
  },
  {
   "cell_type": "markdown",
   "metadata": {},
   "source": [
    "#### 2.1.2 What is $P(Ō \\,|\\,\\lambda_{i})$ for each model?\n",
    "&nbsp;"
   ]
  },
  {
   "cell_type": "code",
   "execution_count": 133,
   "metadata": {},
   "outputs": [
    {
     "name": "stdout",
     "output_type": "stream",
     "text": [
      "P(O|Model 1) = 1.5030992889404299e-05\n",
      "P(O|Model 2) = 4.1639062500000013e-05\n"
     ]
    }
   ],
   "source": [
    "print(f\"P(O|Model 1) = {np.sum(alpha1[-1, :])}\")\n",
    "print(f\"P(O|Model 2) = {np.sum(alpha2[-1, :])}\")"
   ]
  },
  {
   "cell_type": "markdown",
   "metadata": {},
   "source": [
    "#### 2.1.3 Which model most likely produced the observation?\n",
    "&nbsp;"
   ]
  },
  {
   "cell_type": "markdown",
   "metadata": {},
   "source": [
    "Model 1 most likely produced the observation."
   ]
  },
  {
   "cell_type": "markdown",
   "metadata": {},
   "source": [
    "#### 2.2 Implement the backward algoirthm:"
   ]
  },
  {
   "cell_type": "code",
   "execution_count": 134,
   "metadata": {},
   "outputs": [
    {
     "name": "stdout",
     "output_type": "stream",
     "text": [
      "[[3.00619858e-04 8.06625000e-04 9.00000000e-04]\n",
      " [6.52305908e-04 2.37750000e-03 3.00000000e-03]\n",
      " [1.13896484e-03 5.85000000e-03 1.00000000e-02]\n",
      " [1.90390625e-02 1.70000000e-02 2.00000000e-02]\n",
      " [4.14375000e-01 1.40000000e-01 4.00000000e-02]\n",
      " [6.75000000e-01 4.00000000e-01 2.00000000e-01]\n",
      " [1.00000000e+00 1.00000000e+00 1.00000000e+00]] \n",
      "\n",
      " [[4.16390625e-04 5.46750000e-04 3.24000000e-04]\n",
      " [7.46718750e-04 1.28250000e-03 1.08000000e-03]\n",
      " [1.25156250e-03 2.47500000e-03 3.60000000e-03]\n",
      " [1.21875000e-02 4.50000000e-03 6.00000000e-03]\n",
      " [1.52500000e-01 1.00000000e-02 1.00000000e-02]\n",
      " [4.00000000e-01 1.00000000e-01 1.00000000e-01]\n",
      " [1.00000000e+00 1.00000000e+00 1.00000000e+00]]\n"
     ]
    }
   ],
   "source": [
    "def backward(O, A, B):\n",
    "    num_obs = O.shape[0]\n",
    "    num_states = A.shape[0]\n",
    "    beta = np.zeros((num_obs, num_states))\n",
    " \n",
    "    # setting beta(T) = 1\n",
    "    beta[num_obs - 1] = np.ones((num_states))\n",
    " \n",
    "    # Loop in backward way from T-1 to ...\n",
    "    # Due to python indexing the actual loop will be T-2 to 0\n",
    "    for t in range(num_obs - 2, -1, -1):\n",
    "        for j in range(num_states):\n",
    "            beta[t, j] = (beta[t + 1] * B[:, O[t + 1]]).dot(A[j, :])\n",
    " \n",
    "    return beta\n",
    " \n",
    "beta1 = backward(observations, a, b1)\n",
    "beta2 = backward(observations, a, b2)\n",
    "print(beta1,\"\\n\\n\", beta2)"
   ]
  },
  {
   "cell_type": "markdown",
   "metadata": {},
   "source": [
    "#### 2.2.1 Calculate $\\beta_{1}$ to $\\beta_{3}$ by hand.\n",
    "&nbsp;"
   ]
  },
  {
   "cell_type": "code",
   "execution_count": 137,
   "metadata": {},
   "outputs": [
    {
     "name": "stdout",
     "output_type": "stream",
     "text": [
      "beta 1 | model 1: [[0.00030062 0.00080663 0.0009    ]]\n",
      "beta 1 | model 2: [[0.00041639 0.00054675 0.000324  ]]\n",
      "beta 2 | model 1: [[0.00065231 0.0023775  0.003     ]]\n",
      "beta 2 | model 2: [[0.00074672 0.0012825  0.00108   ]]\n",
      "beta 3 | model 1: [[0.00113896 0.00585    0.01      ]]\n",
      "beta 3 | model 2: [[0.00125156 0.002475   0.0036    ]]\n"
     ]
    }
   ],
   "source": [
    "#(From Piazza Post, we can use the output of our algorithm)\n",
    "\n",
    "print(f\"beta 1 | model 1: {beta1[0:1, :]}\")\n",
    "print(f\"beta 1 | model 2: {beta2[0:1, :]}\")\n",
    "print(f\"beta 2 | model 1: {beta1[1:2, :]}\")\n",
    "print(f\"beta 2 | model 2: {beta2[1:2, :]}\")\n",
    "print(f\"beta 3 | model 1: {beta1[2:3, :]}\")\n",
    "print(f\"beta 3 | model 2: {beta2[2:3, :]}\")"
   ]
  },
  {
   "cell_type": "markdown",
   "metadata": {},
   "source": [
    "#### 2.2.2 What is $P(Ō \\,|\\,\\lambda_{i})$ for each model?\n",
    "&nbsp;"
   ]
  },
  {
   "cell_type": "code",
   "execution_count": 136,
   "metadata": {},
   "outputs": [
    {
     "name": "stdout",
     "output_type": "stream",
     "text": [
      "P(O|Model 1) = 1.5030992889404297e-05\n",
      "P(O|Model 2) = 4.1639062500000013e-05\n"
     ]
    }
   ],
   "source": [
    "def getBackwardsProb(priors, A, B, beta):\n",
    "    num_states = A.shape[0]\n",
    "    total_prob = 0\n",
    "    for i in range(num_states):\n",
    "        total_prob += priors[i]*B[i,0]*beta[0, i]\n",
    "    \n",
    "    return total_prob\n",
    "\n",
    "print(f\"P(O|Model 1) = {getBackwardsProb(priors, a, b1, beta1)}\")\n",
    "print(f\"P(O|Model 2) = {getBackwardsProb(priors, a, b2, beta2)}\")"
   ]
  },
  {
   "cell_type": "markdown",
   "metadata": {},
   "source": [
    "#### 2.2.3 Which model most likely produced the observation?\n",
    "&nbsp;"
   ]
  },
  {
   "cell_type": "markdown",
   "metadata": {},
   "source": [
    "Model 1 most likely produced the observation."
   ]
  },
  {
   "cell_type": "markdown",
   "metadata": {},
   "source": [
    "#### 2.2.4 Are the probabilities for the forward and backward algorithm the same or different? Why?\n",
    "&nbsp;"
   ]
  },
  {
   "cell_type": "markdown",
   "metadata": {},
   "source": [
    "They are the same! The both calculate the same thing in different directions."
   ]
  },
  {
   "cell_type": "markdown",
   "metadata": {},
   "source": [
    "#### 2.3 Now, implement local recognition to find the most likely state sequence"
   ]
  },
  {
   "cell_type": "code",
   "execution_count": 154,
   "metadata": {},
   "outputs": [],
   "source": [
    "def localSearch(alpha, beta):\n",
    "    num_obs = alpha.shape[0]\n",
    "    num_states = alpha.shape[1]\n",
    "    \n",
    "    gamma = np.zeros((num_obs, num_states))\n",
    "    \n",
    "    for t in range(num_obs):\n",
    "        for s in range(num_states):\n",
    "            gamma[t,s] = (alpha[t][s]*beta[t][s])/(alpha[t].dot(beta[t]))\n",
    "    \n",
    "    optimal_states = [np.argmax(a) for a in gamma]\n",
    "    return optimal_states, gamma"
   ]
  },
  {
   "cell_type": "code",
   "execution_count": 155,
   "metadata": {},
   "outputs": [
    {
     "name": "stdout",
     "output_type": "stream",
     "text": [
      "[[1.         0.         0.        ]\n",
      " [0.40685056 0.59314944 0.        ]\n",
      " [0.13319723 0.49257599 0.37422678]\n",
      " [0.08349524 0.12127286 0.7952319 ]\n",
      " [0.06814609 0.06528503 0.86656888]\n",
      " [0.05827879 0.06582591 0.87589531]\n",
      " [0.04532794 0.06232027 0.89235179]] \n",
      "\n",
      " [[1.         0.         0.        ]\n",
      " [0.53799392 0.46200608 0.        ]\n",
      " [0.27051672 0.53495441 0.19452888]\n",
      " [0.19756839 0.21884498 0.58358663]\n",
      " [0.18541033 0.08510638 0.72948328]\n",
      " [0.18237082 0.04559271 0.77203647]\n",
      " [0.17097264 0.03419453 0.79483283]]\n"
     ]
    }
   ],
   "source": [
    "optimal_states1, _1 =  localSearch(alpha1, beta1)\n",
    "optimal_states2, _2 =  localSearch(alpha2, beta2)\n",
    "print(_1,\"\\n\\n\",_2)"
   ]
  },
  {
   "cell_type": "markdown",
   "metadata": {},
   "source": [
    "#### 2.3.1\tWhat is the state sequence associated with each model?\n",
    "&nbsp;"
   ]
  },
  {
   "cell_type": "code",
   "execution_count": 157,
   "metadata": {},
   "outputs": [
    {
     "name": "stdout",
     "output_type": "stream",
     "text": [
      "Optimal Sequence for Model 1: [0, 1, 1, 2, 2, 2, 2]\n",
      "Optimal Sequence for Model 2: [0, 0, 1, 2, 2, 2, 2]\n"
     ]
    }
   ],
   "source": [
    "print(f\"Optimal Sequence for Model 1: {optimal_states1}\")\n",
    "print(f\"Optimal Sequence for Model 2: {optimal_states2}\")"
   ]
  },
  {
   "cell_type": "markdown",
   "metadata": {},
   "source": [
    "#### 2.3.2 What is the problem with using local recognition?\n",
    "&nbsp;"
   ]
  },
  {
   "cell_type": "markdown",
   "metadata": {},
   "source": [
    "Local recognition picks the most likely state at each timestamp without making sure whether a picked final sequence if valid or not. "
   ]
  },
  {
   "cell_type": "markdown",
   "metadata": {},
   "source": [
    "#### 2.4 Finally, implement the Viterbi algorithm and identify the most likely state sequence for each model."
   ]
  },
  {
   "cell_type": "code",
   "execution_count": 165,
   "metadata": {},
   "outputs": [
    {
     "name": "stdout",
     "output_type": "stream",
     "text": [
      "Optimal Sequence for Model 1: [0. 1. 2. 2. 2. 2. 2.]\n",
      "Optimal Sequence for Model 2: [0. 0. 1. 2. 2. 2. 2.]\n"
     ]
    },
    {
     "name": "stderr",
     "output_type": "stream",
     "text": [
      "/Users/faryab/opt/anaconda3/lib/python3.7/site-packages/ipykernel_launcher.py:7: RuntimeWarning: divide by zero encountered in log\n",
      "  import sys\n",
      "/Users/faryab/opt/anaconda3/lib/python3.7/site-packages/ipykernel_launcher.py:16: RuntimeWarning: divide by zero encountered in log\n",
      "  app.launch_new_instance()\n"
     ]
    }
   ],
   "source": [
    "# https://www.youtube.com/watch?v=RwwfUICZLsA&list=PLD0F06AA0D2E8FFBA&index=105\n",
    "def viterbi(O, A, B, priors):\n",
    "    num_obs = O.shape[0] \n",
    "    num_states = A.shape[0]  \n",
    " \n",
    "    omega = np.zeros((num_obs, num_states))\n",
    "    omega[0, :] = np.log(priors * B[:, O[0]])\n",
    "    prev = np.zeros((num_obs - 1, num_states))\n",
    "\n",
    "    for t in range(1, num_obs):\n",
    "        for j in range(num_states):\n",
    "            # we log to prevent underflow\n",
    "            # https://www.youtube.com/watch?v=-RVM21Voo7Q&list=PLD0F06AA0D2E8FFBA&index=104\n",
    "            \n",
    "            # Same as Forward Probability\n",
    "            probability = omega[t - 1] + np.log(A[:, j]) + np.log(B[j, O[t]])\n",
    "            \n",
    "            # This is our most probable state given previous state at time t (1)\n",
    "            prev[t - 1, j] = np.argmax(probability)\n",
    "            \n",
    "            # This is the probability of the most probable state (2)\n",
    "            omega[t, j] = np.max(probability)\n",
    " \n",
    "    # Path Array\n",
    "    S = np.zeros(num_obs)\n",
    " \n",
    "    # Find the most probable last hidden state\n",
    "    last_state = np.argmax(omega[num_obs - 1, :])\n",
    "    S[0] = last_state\n",
    " \n",
    "    backtrack_index = 1\n",
    "    for i in range(num_obs - 2, -1, -1):\n",
    "        S[backtrack_index] = prev[i, int(last_state)]\n",
    "        last_state = prev[i, int(last_state)]\n",
    "        backtrack_index += 1\n",
    " \n",
    "    # Flip the path array since we were backtracking\n",
    "    return np.flip(S, axis=0), last_state\n",
    "\n",
    "model1, last_state1 = viterbi(observations, a, b1, priors)\n",
    "model2, last_state2 = viterbi(observations, a, b2, priors)\n",
    "\n",
    "print(f\"Optimal Sequence for Model 1: {model1}\")\n",
    "print(f\"Optimal Sequence for Model 2: {model2}\")"
   ]
  },
  {
   "cell_type": "markdown",
   "metadata": {},
   "source": [
    "___\n",
    "### Part 3: Spoken Calculator\n",
    "#### In this part of the assignment, we will learn how to use python packages to train a HMM model to recognize spoken digits.  We will then use the trained HMM to recognize digits in an equation which would serve as a calculator. We would be using the dataset published by google: [Speech Commands Dataset](http://ai.googleblog.com/2017/08/launching-speech-commands-dataset.html).\n",
    "\n",
    "#### For the purpose of this assignment, we will use the spoken calculator as follows:\n",
    "#### `1+1` is spoken as `one plus one`\n",
    "#### `999 - 213` is spoken as `nine nine nine minus two one three`\n",
    "\n",
    "#### We will concentrate on `plus` and `minus` operations for this assignment. For collecting voice data about operands, we suggest recording yourself saying these two words multiple times. We will also upload some recordings to the HW2 folder on canvas. You can also share these recordings amongst the class."
   ]
  },
  {
   "cell_type": "markdown",
   "metadata": {},
   "source": [
    "#### 3.1 Import all packages"
   ]
  },
  {
   "cell_type": "code",
   "execution_count": 117,
   "metadata": {},
   "outputs": [],
   "source": [
    "import pydub\n",
    "from pydub import AudioSegment\n",
    "import pydub\n",
    "from pydub.playback import play\n",
    "from python_speech_features import mfcc\n",
    "from python_speech_features import logfbank\n",
    "from sklearn.model_selection import train_test_split\n",
    "from sklearn.metrics import accuracy_score\n",
    "from hmmlearn import hmm\n",
    "from time import sleep\n",
    "import scipy.io.wavfile as wav\n",
    "from glob import glob\n",
    "import seaborn as sns\n",
    "import matplotlib.pyplot as plt\n",
    "%matplotlib inline"
   ]
  },
  {
   "cell_type": "markdown",
   "metadata": {},
   "source": [
    "#### 3.2 Prepare the dataset\n",
    "#### _Prepare a dataframe where` column A` refers to the `file path` of the wav file and `column B` refers to the `spoken digit` or the `operator`._"
   ]
  },
  {
   "cell_type": "code",
   "execution_count": 2,
   "metadata": {},
   "outputs": [],
   "source": [
    "operand_paths = glob(f\"./plus_minus/*.wav\")\n",
    "operand_labels = ['plus' if path[13] is 'p' else 'minus' for path in operand_paths]"
   ]
  },
  {
   "cell_type": "code",
   "execution_count": 5,
   "metadata": {},
   "outputs": [],
   "source": [
    "digits = \"digits\"\n",
    "operands = \"plus_minus\"\n",
    "digit_list = ['one', 'two', 'three', 'four', 'five', 'six', 'seven', 'eight', 'nine']\n",
    "\n",
    "all_paths = operand_paths # get ALL the paths\n",
    "all_labels = operand_labels # get ALL the labels\n",
    "\n",
    "for num in digit_list:\n",
    "    paths = glob(f\"./{digits}/{num}/*.wav\")\n",
    "    labels = [num for path in paths]\n",
    "    \n",
    "    all_paths += paths\n",
    "    all_labels += labels"
   ]
  },
  {
   "cell_type": "code",
   "execution_count": 6,
   "metadata": {},
   "outputs": [
    {
     "data": {
      "text/html": [
       "<div>\n",
       "<style scoped>\n",
       "    .dataframe tbody tr th:only-of-type {\n",
       "        vertical-align: middle;\n",
       "    }\n",
       "\n",
       "    .dataframe tbody tr th {\n",
       "        vertical-align: top;\n",
       "    }\n",
       "\n",
       "    .dataframe thead th {\n",
       "        text-align: right;\n",
       "    }\n",
       "</style>\n",
       "<table border=\"1\" class=\"dataframe\">\n",
       "  <thead>\n",
       "    <tr style=\"text-align: right;\">\n",
       "      <th></th>\n",
       "      <th>relative_path</th>\n",
       "      <th>digit</th>\n",
       "    </tr>\n",
       "  </thead>\n",
       "  <tbody>\n",
       "    <tr>\n",
       "      <th>count</th>\n",
       "      <td>21310</td>\n",
       "      <td>21310</td>\n",
       "    </tr>\n",
       "    <tr>\n",
       "      <th>unique</th>\n",
       "      <td>21310</td>\n",
       "      <td>11</td>\n",
       "    </tr>\n",
       "    <tr>\n",
       "      <th>top</th>\n",
       "      <td>./digits/four/96ab6565_nohash_4.wav</td>\n",
       "      <td>seven</td>\n",
       "    </tr>\n",
       "    <tr>\n",
       "      <th>freq</th>\n",
       "      <td>1</td>\n",
       "      <td>2377</td>\n",
       "    </tr>\n",
       "  </tbody>\n",
       "</table>\n",
       "</div>"
      ],
      "text/plain": [
       "                              relative_path  digit\n",
       "count                                 21310  21310\n",
       "unique                                21310     11\n",
       "top     ./digits/four/96ab6565_nohash_4.wav  seven\n",
       "freq                                      1   2377"
      ]
     },
     "execution_count": 6,
     "metadata": {},
     "output_type": "execute_result"
    }
   ],
   "source": [
    "data = pd.DataFrame(list(zip(all_paths, all_labels)), columns =['relative_path', 'digit']) \n",
    "data2 = data.copy()\n",
    "data2.describe()"
   ]
  },
  {
   "cell_type": "code",
   "execution_count": 7,
   "metadata": {},
   "outputs": [
    {
     "data": {
      "image/png": "[encoded data removed]",
      "text/plain": [
       "<Figure size 432x288 with 1 Axes>"
      ]
     },
     "metadata": {},
     "output_type": "display_data"
    },
    {
     "name": "stdout",
     "output_type": "stream",
     "text": [
      "Yay, it's well balanced! But we have VERY less samples for + and - :c\n"
     ]
    }
   ],
   "source": [
    "# visualize categorical data https://www.datacamp.com/community/tutorials/categorical-data\n",
    "digit_counts = data2['digit'].value_counts()\n",
    "sns.set(style=\"darkgrid\")\n",
    "sns.barplot(digit_counts.index, digit_counts.values, alpha=0.9)\n",
    "plt.title('Frequency Distribution of Digits')\n",
    "plt.ylabel('Number of Occurrences', fontsize=12)\n",
    "plt.xlabel('Digit', fontsize=12)\n",
    "plt.show()\n",
    "print(\"Yay, it's well balanced! But we have VERY less samples for + and - :c\")"
   ]
  },
  {
   "cell_type": "markdown",
   "metadata": {},
   "source": [
    "#### 3.3 Write a function to extract MFBs from the given wav file using `logfbank` from `python_speech_features`. Make sure that you trim any silence using `detect_leading_silence` function from `pydub`.\n",
    "\n",
    "#### _We will use this function to return the MFBs of any wav file that has a `singular spoken digit` in it._"
   ]
  },
  {
   "cell_type": "code",
   "execution_count": 8,
   "metadata": {},
   "outputs": [],
   "source": [
    "def detectLeadingSilence(sound, silence_threshold=-70.0, chunk_size=10):\n",
    "    '''\n",
    "    sound is a pydub.AudioSegment\n",
    "    silence_threshold in dB\n",
    "    chunk_size in ms\n",
    "    iterate over chunks until you find the first one with sound\n",
    "    '''\n",
    "    trim_ms = 0 # ms\n",
    "    assert chunk_size > 0 # to avoid infinite loop\n",
    "    while sound[trim_ms:trim_ms+chunk_size].dBFS < silence_threshold and trim_ms < len(sound):\n",
    "        trim_ms += chunk_size\n",
    "\n",
    "    return trim_ms"
   ]
  },
  {
   "cell_type": "code",
   "execution_count": 9,
   "metadata": {},
   "outputs": [
    {
     "name": "stdout",
     "output_type": "stream",
     "text": [
      "1170\n",
      "44100\n",
      "[0 0 0 ... 1 2 2]\n"
     ]
    }
   ],
   "source": [
    "# # play around...\n",
    "# path = data2[\"relative_path\"][3]\n",
    "\n",
    "# rate, signal = wav.read(path)\n",
    "# channel1w = signal\n",
    "\n",
    "# audio_segment = pydub.AudioSegment(\n",
    "#     channel1.tobytes(), \n",
    "#     frame_rate=rate,\n",
    "#     sample_width=channel1.dtype.itemsize, \n",
    "#     channels=1\n",
    "# )\n",
    "\n",
    "# # test that it sounds right (requires ffplay, or pyaudio):\n",
    "# play(audio_segment)\n",
    "\n",
    "# # test detect leading silence\n",
    "# print(detectLeadingSilence(audio_segment))\n",
    "\n",
    "# # play around with trimming\n",
    "# play(audio_segment[400:])\n",
    "# print(audio_segment.frame_rate)\n",
    "# samples = np.array(audio_segment.get_array_of_samples())\n",
    "# print(samples)"
   ]
  },
  {
   "cell_type": "code",
   "execution_count": 10,
   "metadata": {},
   "outputs": [],
   "source": [
    "def extractMFB(file_path, test=False, debug=True):\n",
    "    global count\n",
    "    global silent_clips\n",
    "    global clip_idx\n",
    "    \n",
    "    rate, signal = wav.read(file_path)\n",
    "    if len(signal) == 0:\n",
    "        print(f\"Empty wav: {file_path}\")\n",
    "    \n",
    "    # create audio segment\n",
    "    audio_segment = pydub.AudioSegment(\n",
    "        signal.tobytes(), \n",
    "        frame_rate=rate,\n",
    "        sample_width=signal.dtype.itemsize, \n",
    "        channels=1\n",
    "    )\n",
    "\n",
    "    if test:\n",
    "        play(audio_segment)\n",
    "    \n",
    "    leading_silence = detectLeadingSilence(audio_segment)\n",
    "    trimmed = audio_segment[leading_silence:]\n",
    "    samples = np.array(trimmed.get_array_of_samples()) # make signal go back to array\n",
    "    \n",
    "    # oh shoot we trimmed the entire thing, why?\n",
    "    if len(samples) == 0:\n",
    "        if debug is True:\n",
    "            print(f\"empty trim! #{count}, DBs was: {audio_segment.dBFS}, filepath: {file_path}\")\n",
    "            silent_clips.append(clip_idx)\n",
    "            count += 1\n",
    "        return np.array([-1])\n",
    "    \n",
    "    fbank_feat = logfbank(samples, rate) #bam\n",
    "    if debug is True:\n",
    "        clip_idx += 1\n",
    "    return fbank_feat"
   ]
  },
  {
   "cell_type": "markdown",
   "metadata": {},
   "source": [
    "#### 3.4 Build the dataset where you extract MFBs using the function from `3.3` to get a form a paired sample of the set of MFBs and the labelled spoken digit or operator."
   ]
  },
  {
   "cell_type": "code",
   "execution_count": 11,
   "metadata": {},
   "outputs": [
    {
     "name": "stderr",
     "output_type": "stream",
     "text": [
      "WARNING:root:frame length (1103) is greater than FFT size (512), frame will be truncated. Increase NFFT to avoid.\n",
      "WARNING:root:frame length (1103) is greater than FFT size (512), frame will be truncated. Increase NFFT to avoid.\n",
      "WARNING:root:frame length (1103) is greater than FFT size (512), frame will be truncated. Increase NFFT to avoid.\n",
      "WARNING:root:frame length (1103) is greater than FFT size (512), frame will be truncated. Increase NFFT to avoid.\n",
      "WARNING:root:frame length (1103) is greater than FFT size (512), frame will be truncated. Increase NFFT to avoid.\n",
      "WARNING:root:frame length (1103) is greater than FFT size (512), frame will be truncated. Increase NFFT to avoid.\n",
      "WARNING:root:frame length (1103) is greater than FFT size (512), frame will be truncated. Increase NFFT to avoid.\n",
      "WARNING:root:frame length (1103) is greater than FFT size (512), frame will be truncated. Increase NFFT to avoid.\n",
      "WARNING:root:frame length (1103) is greater than FFT size (512), frame will be truncated. Increase NFFT to avoid.\n",
      "WARNING:root:frame length (1103) is greater than FFT size (512), frame will be truncated. Increase NFFT to avoid.\n",
      "WARNING:root:frame length (1103) is greater than FFT size (512), frame will be truncated. Increase NFFT to avoid.\n",
      "WARNING:root:frame length (1103) is greater than FFT size (512), frame will be truncated. Increase NFFT to avoid.\n",
      "WARNING:root:frame length (1103) is greater than FFT size (512), frame will be truncated. Increase NFFT to avoid.\n",
      "WARNING:root:frame length (1103) is greater than FFT size (512), frame will be truncated. Increase NFFT to avoid.\n",
      "WARNING:root:frame length (1103) is greater than FFT size (512), frame will be truncated. Increase NFFT to avoid.\n",
      "WARNING:root:frame length (1103) is greater than FFT size (512), frame will be truncated. Increase NFFT to avoid.\n",
      "WARNING:root:frame length (1103) is greater than FFT size (512), frame will be truncated. Increase NFFT to avoid.\n",
      "WARNING:root:frame length (1103) is greater than FFT size (512), frame will be truncated. Increase NFFT to avoid.\n",
      "WARNING:root:frame length (1103) is greater than FFT size (512), frame will be truncated. Increase NFFT to avoid.\n",
      "WARNING:root:frame length (1103) is greater than FFT size (512), frame will be truncated. Increase NFFT to avoid.\n",
      "WARNING:root:frame length (1103) is greater than FFT size (512), frame will be truncated. Increase NFFT to avoid.\n"
     ]
    },
    {
     "name": "stdout",
     "output_type": "stream",
     "text": [
      "empty trim! #0, DBs was: -90.30899869919435, filepath: ./digits/one/dea820ce_nohash_1.wav\n",
      "empty trim! #1, DBs was: -90.30899869919435, filepath: ./digits/one/e96a5020_nohash_2.wav\n",
      "empty trim! #2, DBs was: -90.30899869919435, filepath: ./digits/one/e96a5020_nohash_1.wav\n",
      "empty trim! #3, DBs was: -90.30899869919435, filepath: ./digits/one/e96a5020_nohash_0.wav\n",
      "empty trim! #4, DBs was: -90.30899869919435, filepath: ./digits/one/d197e3ae_nohash_4.wav\n",
      "empty trim! #5, DBs was: -90.30899869919435, filepath: ./digits/two/712e4d58_nohash_3.wav\n",
      "empty trim! #6, DBs was: -90.30899869919435, filepath: ./digits/two/e96a5020_nohash_2.wav\n",
      "empty trim! #7, DBs was: -90.30899869919435, filepath: ./digits/two/e96a5020_nohash_1.wav\n",
      "empty trim! #8, DBs was: -90.30899869919435, filepath: ./digits/two/e96a5020_nohash_0.wav\n",
      "empty trim! #9, DBs was: -90.30899869919435, filepath: ./digits/two/d197e3ae_nohash_2.wav\n",
      "empty trim! #10, DBs was: -84.28839878591472, filepath: ./digits/three/3ea77ede_nohash_0.wav\n",
      "empty trim! #11, DBs was: -80.76657360480111, filepath: ./digits/three/0132a06d_nohash_2.wav\n",
      "empty trim! #12, DBs was: -90.30899869919435, filepath: ./digits/three/e53139ad_nohash_0.wav\n",
      "empty trim! #13, DBs was: -84.28839878591472, filepath: ./digits/three/611d2b50_nohash_3.wav\n",
      "empty trim! #14, DBs was: -84.28839878591472, filepath: ./digits/three/611d2b50_nohash_2.wav\n",
      "empty trim! #15, DBs was: -90.30899869919435, filepath: ./digits/three/d197e3ae_nohash_1.wav\n",
      "empty trim! #16, DBs was: -90.30899869919435, filepath: ./digits/three/28ed6bc9_nohash_1.wav\n",
      "empty trim! #17, DBs was: -84.28839878591472, filepath: ./digits/four/96a48d28_nohash_0.wav\n",
      "empty trim! #18, DBs was: -90.30899869919435, filepath: ./digits/four/c0445658_nohash_1.wav\n",
      "empty trim! #19, DBs was: -90.30899869919435, filepath: ./digits/four/e96a5020_nohash_1.wav\n",
      "empty trim! #20, DBs was: -90.30899869919435, filepath: ./digits/four/e53139ad_nohash_0.wav\n",
      "empty trim! #21, DBs was: -84.28839878591472, filepath: ./digits/four/e96a5020_nohash_0.wav\n",
      "empty trim! #22, DBs was: -80.76657360480111, filepath: ./digits/four/c93d5e22_nohash_0.wav\n",
      "empty trim! #23, DBs was: -90.30899869919435, filepath: ./digits/four/7c1d8533_nohash_0.wav\n",
      "empty trim! #24, DBs was: -84.28839878591472, filepath: ./digits/four/611d2b50_nohash_1.wav\n",
      "empty trim! #25, DBs was: -90.30899869919435, filepath: ./digits/four/0137b3f4_nohash_3.wav\n",
      "empty trim! #26, DBs was: -90.30899869919435, filepath: ./digits/five/e96a5020_nohash_2.wav\n",
      "empty trim! #27, DBs was: -90.30899869919435, filepath: ./digits/five/e96a5020_nohash_1.wav\n",
      "empty trim! #28, DBs was: -90.30899869919435, filepath: ./digits/five/e96a5020_nohash_0.wav\n",
      "empty trim! #29, DBs was: -90.30899869919435, filepath: ./digits/five/d197e3ae_nohash_1.wav\n",
      "empty trim! #30, DBs was: -90.30899869919435, filepath: ./digits/six/712e4d58_nohash_1.wav\n",
      "empty trim! #31, DBs was: -90.30899869919435, filepath: ./digits/six/712e4d58_nohash_0.wav\n",
      "empty trim! #32, DBs was: -90.30899869919435, filepath: ./digits/six/e96a5020_nohash_2.wav\n",
      "empty trim! #33, DBs was: -90.30899869919435, filepath: ./digits/six/e96a5020_nohash_1.wav\n",
      "empty trim! #34, DBs was: -90.30899869919435, filepath: ./digits/six/e96a5020_nohash_0.wav\n",
      "empty trim! #35, DBs was: -84.28839878591472, filepath: ./digits/six/611d2b50_nohash_0.wav\n",
      "empty trim! #36, DBs was: -90.30899869919435, filepath: ./digits/seven/712e4d58_nohash_2.wav\n",
      "empty trim! #37, DBs was: -90.30899869919435, filepath: ./digits/seven/38d78313_nohash_2.wav\n",
      "empty trim! #38, DBs was: -inf, filepath: ./digits/seven/8f4c551f_nohash_4.wav\n",
      "empty trim! #39, DBs was: -84.28839878591472, filepath: ./digits/seven/e96a5020_nohash_1.wav\n",
      "empty trim! #40, DBs was: -84.28839878591472, filepath: ./digits/seven/e96a5020_nohash_0.wav\n",
      "empty trim! #41, DBs was: -84.28839878591472, filepath: ./digits/seven/099d52ad_nohash_4.wav\n",
      "empty trim! #42, DBs was: -90.30899869919435, filepath: ./digits/eight/712e4d58_nohash_2.wav\n",
      "empty trim! #43, DBs was: -90.30899869919435, filepath: ./digits/eight/7fd25f7c_nohash_2.wav\n",
      "empty trim! #44, DBs was: -90.30899869919435, filepath: ./digits/eight/712e4d58_nohash_1.wav\n",
      "empty trim! #45, DBs was: -90.30899869919435, filepath: ./digits/eight/712e4d58_nohash_4.wav\n",
      "empty trim! #46, DBs was: -90.30899869919435, filepath: ./digits/eight/735845ab_nohash_4.wav\n",
      "empty trim! #47, DBs was: -84.28839878591472, filepath: ./digits/eight/e96a5020_nohash_1.wav\n",
      "empty trim! #48, DBs was: -80.76657360480111, filepath: ./digits/eight/f5733968_nohash_2.wav\n",
      "empty trim! #49, DBs was: -90.30899869919435, filepath: ./digits/eight/e96a5020_nohash_0.wav\n",
      "empty trim! #50, DBs was: -78.2677988726351, filepath: ./digits/eight/c93d5e22_nohash_4.wav\n",
      "empty trim! #51, DBs was: -80.76657360480111, filepath: ./digits/nine/aff582a1_nohash_2.wav\n",
      "empty trim! #52, DBs was: -90.30899869919435, filepath: ./digits/nine/3d53244b_nohash_4.wav\n",
      "empty trim! #53, DBs was: -90.30899869919435, filepath: ./digits/nine/e96a5020_nohash_2.wav\n",
      "empty trim! #54, DBs was: -84.28839878591472, filepath: ./digits/nine/e96a5020_nohash_1.wav\n",
      "empty trim! #55, DBs was: -90.30899869919435, filepath: ./digits/nine/3d53244b_nohash_3.wav\n",
      "empty trim! #56, DBs was: -84.28839878591472, filepath: ./digits/nine/e96a5020_nohash_0.wav\n",
      "empty trim! #57, DBs was: -90.30899869919435, filepath: ./digits/nine/e0315cf6_nohash_0.wav\n",
      "[1437, 1486, 1634, 1713, 1967, 2522, 3903, 4051, 4121, 4678, 5463, 5935, 6401, 6547, 6580, 6856, 7037, 7579, 7581, 8772, 8800, 8846, 8956, 9119, 9133, 9194, 10942, 11100, 11174, 11593, 12007, 12074, 13308, 13456, 13538, 13786, 14210, 14871, 15675, 15788, 15865, 16080, 16579, 16599, 16736, 16872, 17971, 18153, 18174, 18232, 18824, 20053, 20224, 20371, 20515, 20604, 20612, 20905]\n"
     ]
    }
   ],
   "source": [
    "# global variables\n",
    "silent_clips = []\n",
    "count=0\n",
    "clip_idx=0\n",
    "\n",
    "data2[\"MFBs\"] = data2.apply(lambda row: extractMFB(row.relative_path), axis=1)\n",
    "print(silent_clips) # so many silent clips! (even when we lowered threshold from -50 to -70)"
   ]
  },
  {
   "cell_type": "code",
   "execution_count": 12,
   "metadata": {},
   "outputs": [
    {
     "name": "stdout",
     "output_type": "stream",
     "text": [
      "(21310, 3)\n",
      "(21252, 3)\n"
     ]
    }
   ],
   "source": [
    "# remove bad clips\n",
    "print(data2.shape)\n",
    "data2.drop(silent_clips, inplace=True)\n",
    "print(data2.shape)"
   ]
  },
  {
   "cell_type": "code",
   "execution_count": 246,
   "metadata": {},
   "outputs": [
    {
     "data": {
      "text/html": [
       "<div>\n",
       "<style scoped>\n",
       "    .dataframe tbody tr th:only-of-type {\n",
       "        vertical-align: middle;\n",
       "    }\n",
       "\n",
       "    .dataframe tbody tr th {\n",
       "        vertical-align: top;\n",
       "    }\n",
       "\n",
       "    .dataframe thead th {\n",
       "        text-align: right;\n",
       "    }\n",
       "</style>\n",
       "<table border=\"1\" class=\"dataframe\">\n",
       "  <thead>\n",
       "    <tr style=\"text-align: right;\">\n",
       "      <th></th>\n",
       "      <th>relative_path</th>\n",
       "      <th>digit</th>\n",
       "      <th>MFBs</th>\n",
       "    </tr>\n",
       "  </thead>\n",
       "  <tbody>\n",
       "    <tr>\n",
       "      <th>0</th>\n",
       "      <td>./plus_minus/minus10.wav</td>\n",
       "      <td>minus</td>\n",
       "      <td>[[3.8007310131641536, 1.6891133426880867, -0.1...</td>\n",
       "    </tr>\n",
       "    <tr>\n",
       "      <th>1</th>\n",
       "      <td>./plus_minus/plus1.wav</td>\n",
       "      <td>plus</td>\n",
       "      <td>[[2.126669142417205, -0.8526004978429916, 4.40...</td>\n",
       "    </tr>\n",
       "    <tr>\n",
       "      <th>2</th>\n",
       "      <td>./plus_minus/minus7.wav</td>\n",
       "      <td>minus</td>\n",
       "      <td>[[2.306661771275063, 3.105550781151698, 0.7078...</td>\n",
       "    </tr>\n",
       "    <tr>\n",
       "      <th>3</th>\n",
       "      <td>./plus_minus/minus6.wav</td>\n",
       "      <td>minus</td>\n",
       "      <td>[[4.781077337844573, 2.2211931960310496, 2.427...</td>\n",
       "    </tr>\n",
       "    <tr>\n",
       "      <th>4</th>\n",
       "      <td>./plus_minus/plus2.wav</td>\n",
       "      <td>plus</td>\n",
       "      <td>[[-2.0898329595142773, -1.7142819950062635, -0...</td>\n",
       "    </tr>\n",
       "  </tbody>\n",
       "</table>\n",
       "</div>"
      ],
      "text/plain": [
       "              relative_path  digit  \\\n",
       "0  ./plus_minus/minus10.wav  minus   \n",
       "1    ./plus_minus/plus1.wav   plus   \n",
       "2   ./plus_minus/minus7.wav  minus   \n",
       "3   ./plus_minus/minus6.wav  minus   \n",
       "4    ./plus_minus/plus2.wav   plus   \n",
       "\n",
       "                                                MFBs  \n",
       "0  [[3.8007310131641536, 1.6891133426880867, -0.1...  \n",
       "1  [[2.126669142417205, -0.8526004978429916, 4.40...  \n",
       "2  [[2.306661771275063, 3.105550781151698, 0.7078...  \n",
       "3  [[4.781077337844573, 2.2211931960310496, 2.427...  \n",
       "4  [[-2.0898329595142773, -1.7142819950062635, -0...  "
      ]
     },
     "execution_count": 246,
     "metadata": {},
     "output_type": "execute_result"
    }
   ],
   "source": [
    "data2.head()"
   ]
  },
  {
   "cell_type": "code",
   "execution_count": 247,
   "metadata": {},
   "outputs": [
    {
     "data": {
      "text/html": [
       "<div>\n",
       "<style scoped>\n",
       "    .dataframe tbody tr th:only-of-type {\n",
       "        vertical-align: middle;\n",
       "    }\n",
       "\n",
       "    .dataframe tbody tr th {\n",
       "        vertical-align: top;\n",
       "    }\n",
       "\n",
       "    .dataframe thead th {\n",
       "        text-align: right;\n",
       "    }\n",
       "</style>\n",
       "<table border=\"1\" class=\"dataframe\">\n",
       "  <thead>\n",
       "    <tr style=\"text-align: right;\">\n",
       "      <th></th>\n",
       "      <th>relative_path</th>\n",
       "      <th>digit</th>\n",
       "      <th>MFBs</th>\n",
       "    </tr>\n",
       "  </thead>\n",
       "  <tbody>\n",
       "    <tr>\n",
       "      <th>21305</th>\n",
       "      <td>./digits/nine/64220627_nohash_1.wav</td>\n",
       "      <td>nine</td>\n",
       "      <td>[[1.2433006953294596, 2.280328677652897, 2.668...</td>\n",
       "    </tr>\n",
       "    <tr>\n",
       "      <th>21306</th>\n",
       "      <td>./digits/nine/c0c0d87d_nohash_0.wav</td>\n",
       "      <td>nine</td>\n",
       "      <td>[[8.382063457063065, 10.598906117464587, 10.02...</td>\n",
       "    </tr>\n",
       "    <tr>\n",
       "      <th>21307</th>\n",
       "      <td>./digits/nine/238c112c_nohash_0.wav</td>\n",
       "      <td>nine</td>\n",
       "      <td>[[3.2692269213446505, 5.53834884345734, 6.2545...</td>\n",
       "    </tr>\n",
       "    <tr>\n",
       "      <th>21308</th>\n",
       "      <td>./digits/nine/2c7c33e8_nohash_0.wav</td>\n",
       "      <td>nine</td>\n",
       "      <td>[[2.10239652988338, 4.868919941267056, 5.02388...</td>\n",
       "    </tr>\n",
       "    <tr>\n",
       "      <th>21309</th>\n",
       "      <td>./digits/nine/c6389ab0_nohash_0.wav</td>\n",
       "      <td>nine</td>\n",
       "      <td>[[2.0218360704720353, 3.9139848680537237, 4.42...</td>\n",
       "    </tr>\n",
       "  </tbody>\n",
       "</table>\n",
       "</div>"
      ],
      "text/plain": [
       "                             relative_path digit  \\\n",
       "21305  ./digits/nine/64220627_nohash_1.wav  nine   \n",
       "21306  ./digits/nine/c0c0d87d_nohash_0.wav  nine   \n",
       "21307  ./digits/nine/238c112c_nohash_0.wav  nine   \n",
       "21308  ./digits/nine/2c7c33e8_nohash_0.wav  nine   \n",
       "21309  ./digits/nine/c6389ab0_nohash_0.wav  nine   \n",
       "\n",
       "                                                    MFBs  \n",
       "21305  [[1.2433006953294596, 2.280328677652897, 2.668...  \n",
       "21306  [[8.382063457063065, 10.598906117464587, 10.02...  \n",
       "21307  [[3.2692269213446505, 5.53834884345734, 6.2545...  \n",
       "21308  [[2.10239652988338, 4.868919941267056, 5.02388...  \n",
       "21309  [[2.0218360704720353, 3.9139848680537237, 4.42...  "
      ]
     },
     "execution_count": 247,
     "metadata": {},
     "output_type": "execute_result"
    }
   ],
   "source": [
    "data2.tail()"
   ]
  },
  {
   "cell_type": "code",
   "execution_count": null,
   "metadata": {},
   "outputs": [],
   "source": [
    "# ignore\n",
    "# features = np.array(extractMFB(data2[\"relative_path\"][0]))\n",
    "# features.shape\n",
    "\n",
    "# model = hmm.GMMHMM(n_components=states_num, n_mix=GMM_mix_num, \\\n",
    "#                            transmat_prior=transmatPrior, startprob_prior=startprobPrior, \\\n",
    "#                            covariance_type='diag', n_iter=10)\n",
    "# trainData = dataset[label]\n",
    "# length = np.zeros([len(trainData), ], dtype=np.int)\n",
    "# for m in range(len(trainData)):\n",
    "#     length[m] = trainData[m].shape[0]\n",
    "# trainData = np.vstack(trainData)\n",
    "# model.fit(trainData, lengths=length)  # get optimal parameters\n",
    "# GMMHMM_Models[label] = model"
   ]
  },
  {
   "cell_type": "markdown",
   "metadata": {},
   "source": [
    "#### 3.5 Divide your dataset into `test` and `train` such that you have samples for each label in both the partitions, and these are speaker independent. For your help, the test files have been mentioned in the uploaded `testing_list.txt`. You can assume all other files are part of training. For more information on how to create these sets, look at `Readme.md` in the [Speech Commands Dataset](http://ai.googleblog.com/2017/08/launching-speech-commands-dataset.html)."
   ]
  },
  {
   "cell_type": "code",
   "execution_count": 258,
   "metadata": {},
   "outputs": [],
   "source": [
    "f = open('testing_list.txt', 'r')\n",
    "s = f.read().splitlines()\n",
    "f.close()\n",
    "testNames = [\"./digits/\" + name for name in testNames]"
   ]
  },
  {
   "cell_type": "code",
   "execution_count": 262,
   "metadata": {},
   "outputs": [],
   "source": [
    "test = data2[data2[\"relative_path\"].isin(testNames)]\n",
    "X_test = test[\"MFBs\"]\n",
    "y_test = test['digit']\n",
    "train = data2[~data2[\"relative_path\"].isin(testNames)]\n",
    "X_train = train[\"MFBs\"]\n",
    "y_train = train['digit']"
   ]
  },
  {
   "cell_type": "code",
   "execution_count": 242,
   "metadata": {},
   "outputs": [],
   "source": [
    "# test_names = pd.read_csv('testing_list.txt', sep=\"\\n\", header=None)\n",
    "# X_train, X_test, y_train, y_test = train_test_split(data2['MFBs'], data2['digit'], test_size=0.20, random_state=42)"
   ]
  },
  {
   "cell_type": "code",
   "execution_count": 263,
   "metadata": {},
   "outputs": [
    {
     "data": {
      "image/png": "[encoded data removed]",
      "text/plain": [
       "<Figure size 432x288 with 1 Axes>"
      ]
     },
     "metadata": {},
     "output_type": "display_data"
    },
    {
     "name": "stdout",
     "output_type": "stream",
     "text": [
      "Yay, it's pretty balanced as well.\n"
     ]
    }
   ],
   "source": [
    "# visualize categorical data https://www.datacamp.com/community/tutorials/categorical-data\n",
    "digit_counts = pd.Series(y_train).value_counts()\n",
    "sns.set(style=\"darkgrid\")\n",
    "sns.barplot(digit_counts.index, digit_counts.values, alpha=0.9)\n",
    "plt.title('Frequency Distribution of Digits')\n",
    "plt.ylabel('Number of Occurrences', fontsize=12)\n",
    "plt.xlabel('Digit', fontsize=12)\n",
    "plt.show()\n",
    "print(\"Yay, it's pretty balanced as well.\")"
   ]
  },
  {
   "cell_type": "code",
   "execution_count": 264,
   "metadata": {},
   "outputs": [],
   "source": [
    "X_train = np.array(X_train)\n",
    "X_test = np.array(X_test)\n",
    "y_train = np.array(y_train)\n",
    "y_test = np.array(y_test)"
   ]
  },
  {
   "cell_type": "code",
   "execution_count": 384,
   "metadata": {},
   "outputs": [
    {
     "data": {
      "text/plain": [
       "16737"
      ]
     },
     "execution_count": 384,
     "metadata": {},
     "output_type": "execute_result"
    }
   ],
   "source": [
    "len(y_train)"
   ]
  },
  {
   "cell_type": "markdown",
   "metadata": {},
   "source": [
    "#### 3.6 Write a function that trains and returns a Gaussian Mixture Model HMM (`GMMHMM`) with number of components set to `n_comp=15` using the features extracted from samples for each digit or operator. Use `monitor_.converged` parameter of the model to check for convergence (because EM is gradient-based optimization method, it may get stuck in local optima, or not converge). Pass an argument `mat` to the function that would define if the GMMHMM uses `diag` covariance matrix (no correlations) or `full` covariance matrix. Set the `covariance_type` parameter in the defined GMMHMM to the `value of mat`.\n",
    "\n",
    "#### _Refer to the documentation on `hmmlearn` to write this function. You would be calling this function to train and store a different model for each digit and both the operators._"
   ]
  },
  {
   "cell_type": "code",
   "execution_count": 265,
   "metadata": {},
   "outputs": [],
   "source": [
    "def getFeatures(X_train, y_train, label):\n",
    "    features = []\n",
    "    \n",
    "    for index, y in np.ndenumerate(y_train):\n",
    "        if y == label and X_train[index].size > 1:\n",
    "            features.append(X_train[index])\n",
    "    return np.vstack(features), [feature.shape[0] for feature in features]"
   ]
  },
  {
   "cell_type": "code",
   "execution_count": 266,
   "metadata": {},
   "outputs": [],
   "source": [
    "def getGMMHMM(n_comp=15, sequences=None, lengths=None, mat='diag', verb=True, niter=10):\n",
    "    model = hmm.GaussianHMM(n_components=n_comp, covariance_type=mat, verbose=verb, n_iter=niter)\n",
    "    model.fit(sequences, lengths)\n",
    "    \n",
    "    print(model.monitor_.converged)\n",
    "    return model"
   ]
  },
  {
   "cell_type": "markdown",
   "metadata": {},
   "source": [
    "#### 3.7 Use the function from `3.4` to obtain trained HMMs with `mat` set to `diag` for each label using the corresponding samples from the `train set` and store it in a dictionary. \n",
    "\n",
    "#### In total, you should have 12 HMMs, one each for the `digits 0-9`, and one each for `plus` and `minus`."
   ]
  },
  {
   "cell_type": "code",
   "execution_count": 270,
   "metadata": {},
   "outputs": [
    {
     "name": "stdout",
     "output_type": "stream",
     "text": [
      "(26,) (26,)\n",
      "(2, 26)\n"
     ]
    }
   ],
   "source": [
    "features, lengths = getFeatures(X_train, y_train, 'one')\n",
    "model = hmm.GaussianHMM(verbose=True)\n",
    "print(features[0].shape, features[1].shape)\n",
    "print(np.vstack((features[0], features[1])).shape)"
   ]
  },
  {
   "cell_type": "code",
   "execution_count": 271,
   "metadata": {},
   "outputs": [
    {
     "name": "stdout",
     "output_type": "stream",
     "text": [
      "one\n"
     ]
    },
    {
     "name": "stderr",
     "output_type": "stream",
     "text": [
      "         1   -11393704.8350             +nan\n",
      "         2    -8150830.1045    +3242874.7305\n",
      "         3    -7994279.3884     +156550.7161\n",
      "         4    -7986718.8026       +7560.5858\n",
      "         5    -7983542.9313       +3175.8713\n",
      "         6    -7982048.1297       +1494.8016\n",
      "         7    -7981161.8741        +886.2556\n",
      "         8    -7980481.9298        +679.9443\n",
      "         9    -7979901.1960        +580.7338\n",
      "        10    -7979404.2959        +496.9001\n"
     ]
    },
    {
     "name": "stdout",
     "output_type": "stream",
     "text": [
      "True\n",
      "two\n"
     ]
    },
    {
     "name": "stderr",
     "output_type": "stream",
     "text": [
      "         1   -11309342.5491             +nan\n",
      "         2    -8001058.7386    +3308283.8104\n",
      "         3    -7848578.6192     +152480.1195\n",
      "         4    -7840996.6667       +7581.9525\n",
      "         5    -7837324.0125       +3672.6542\n",
      "         6    -7835048.1221       +2275.8904\n",
      "         7    -7833492.8676       +1555.2545\n",
      "         8    -7832290.1426       +1202.7250\n",
      "         9    -7831278.8068       +1011.3358\n",
      "        10    -7830602.2505        +676.5563\n"
     ]
    },
    {
     "name": "stdout",
     "output_type": "stream",
     "text": [
      "True\n",
      "three\n"
     ]
    },
    {
     "name": "stderr",
     "output_type": "stream",
     "text": [
      "         1   -11059905.7142             +nan\n",
      "         2    -8098800.9459    +2961104.7684\n",
      "         3    -7965095.4764     +133705.4694\n",
      "         4    -7957264.2589       +7831.2175\n",
      "         5    -7954244.3663       +3019.8926\n",
      "         6    -7952323.3166       +1921.0497\n",
      "         7    -7950774.6453       +1548.6712\n",
      "         8    -7949288.6797       +1485.9656\n",
      "         9    -7947718.2254       +1570.4543\n",
      "        10    -7946079.2788       +1638.9466\n"
     ]
    },
    {
     "name": "stdout",
     "output_type": "stream",
     "text": [
      "True\n",
      "four\n"
     ]
    },
    {
     "name": "stderr",
     "output_type": "stream",
     "text": [
      "         1   -10913378.3589             +nan\n",
      "         2    -7946266.7527    +2967111.6061\n",
      "         3    -7807536.5239     +138730.2289\n",
      "         4    -7800267.5661       +7268.9577\n",
      "         5    -7797194.3052       +3073.2609\n",
      "         6    -7795109.0856       +2085.2196\n",
      "         7    -7793549.8370       +1559.2486\n",
      "         8    -7792374.6186       +1175.2184\n",
      "         9    -7791517.8757        +856.7429\n",
      "        10    -7790806.1712        +711.7045\n"
     ]
    },
    {
     "name": "stdout",
     "output_type": "stream",
     "text": [
      "True\n",
      "five\n"
     ]
    },
    {
     "name": "stderr",
     "output_type": "stream",
     "text": [
      "         1   -11229262.1188             +nan\n",
      "         2    -8060922.6835    +3168339.4353\n",
      "         3    -7908518.2269     +152404.4565\n",
      "         4    -7902307.6652       +6210.5617\n",
      "         5    -7900146.7654       +2160.8998\n",
      "         6    -7898924.1006       +1222.6648\n",
      "         7    -7898072.2879        +851.8127\n",
      "         8    -7897331.1566        +741.1313\n",
      "         9    -7896594.5561        +736.6004\n",
      "        10    -7895908.4780        +686.0781\n"
     ]
    },
    {
     "name": "stdout",
     "output_type": "stream",
     "text": [
      "True\n",
      "six\n"
     ]
    },
    {
     "name": "stderr",
     "output_type": "stream",
     "text": [
      "         1   -11270029.5922             +nan\n",
      "         2    -8145093.1407    +3124936.4515\n",
      "         3    -8024926.9018     +120166.2390\n",
      "         4    -8017834.8160       +7092.0857\n",
      "         5    -8015144.2974       +2690.5186\n",
      "         6    -8013775.7301       +1368.5673\n",
      "         7    -8012967.4494        +808.2807\n",
      "         8    -8012409.9006        +557.5488\n",
      "         9    -8011983.8619        +426.0387\n",
      "        10    -8011628.5928        +355.2691\n"
     ]
    },
    {
     "name": "stdout",
     "output_type": "stream",
     "text": [
      "True\n",
      "seven\n"
     ]
    },
    {
     "name": "stderr",
     "output_type": "stream",
     "text": [
      "         1   -11623400.4581             +nan\n",
      "         2    -8226307.1657    +3397093.2924\n",
      "         3    -8079587.2740     +146719.8917\n",
      "         4    -8073253.2597       +6334.0142\n",
      "         5    -8070743.6396       +2509.6201\n",
      "         6    -8069208.9275       +1534.7121\n",
      "         7    -8068198.3335       +1010.5940\n",
      "         8    -8067505.1889        +693.1446\n",
      "         9    -8067006.0046        +499.1843\n",
      "        10    -8066617.3181        +388.6864\n"
     ]
    },
    {
     "name": "stdout",
     "output_type": "stream",
     "text": [
      "True\n",
      "eight\n"
     ]
    },
    {
     "name": "stderr",
     "output_type": "stream",
     "text": [
      "         1   -11201959.4394             +nan\n",
      "         2    -7981161.3312    +3220798.1082\n",
      "         3    -7806278.4885     +174882.8427\n",
      "         4    -7792975.8971      +13302.5914\n",
      "         5    -7786315.4267       +6660.4704\n",
      "         6    -7781732.0321       +4583.3946\n",
      "         7    -7778754.1587       +2977.8734\n",
      "         8    -7776490.8869       +2263.2719\n",
      "         9    -7774819.0885       +1671.7983\n",
      "        10    -7773741.6084       +1077.4802\n"
     ]
    },
    {
     "name": "stdout",
     "output_type": "stream",
     "text": [
      "True\n",
      "nine\n"
     ]
    },
    {
     "name": "stderr",
     "output_type": "stream",
     "text": [
      "         1   -11462949.7082             +nan\n",
      "         2    -8267476.5306    +3195473.1776\n",
      "         3    -8104845.1672     +162631.3633\n",
      "         4    -8096707.4728       +8137.6944\n",
      "         5    -8093469.1653       +3238.3075\n",
      "         6    -8091575.2003       +1893.9650\n",
      "         7    -8090289.2545       +1285.9458\n",
      "         8    -8089385.9606        +903.2939\n",
      "         9    -8088746.2464        +639.7141\n",
      "        10    -8088227.5124        +518.7341\n"
     ]
    },
    {
     "name": "stdout",
     "output_type": "stream",
     "text": [
      "True\n",
      "plus\n"
     ]
    },
    {
     "name": "stderr",
     "output_type": "stream",
     "text": [
      "         1     -184621.4814             +nan\n",
      "         2     -103982.8515      +80638.6299\n",
      "         3      -95672.5426       +8310.3088\n",
      "         4      -94890.9399        +781.6027\n",
      "         5      -94610.5799        +280.3601\n",
      "         6      -94444.5158        +166.0641\n",
      "         7      -94311.0828        +133.4330\n",
      "         8      -94222.4208         +88.6620\n",
      "         9      -94149.5490         +72.8718\n",
      "        10      -94100.1196         +49.4294\n"
     ]
    },
    {
     "name": "stdout",
     "output_type": "stream",
     "text": [
      "True\n",
      "minus\n"
     ]
    },
    {
     "name": "stderr",
     "output_type": "stream",
     "text": [
      "         1     -174331.5536             +nan\n",
      "         2     -101344.4673      +72987.0863\n",
      "         3      -93458.5675       +7885.8998\n",
      "         4      -92520.7079        +937.8596\n",
      "         5      -92112.9815        +407.7264\n",
      "         6      -91845.0507        +267.9308\n",
      "         7      -91712.6259        +132.4248\n"
     ]
    },
    {
     "name": "stdout",
     "output_type": "stream",
     "text": [
      "True\n"
     ]
    },
    {
     "name": "stderr",
     "output_type": "stream",
     "text": [
      "         8      -91674.4376         +38.1883\n",
      "         9      -91658.4369         +16.0007\n",
      "        10      -91645.8865         +12.5504\n"
     ]
    }
   ],
   "source": [
    "models = {}\n",
    "labels = digit_list + ['plus', 'minus']\n",
    "\n",
    "for label in labels:\n",
    "    print(label)\n",
    "    features, lengths = getFeatures(X_train, y_train, label)\n",
    "    models[label] = getGMMHMM(sequences=features, lengths=lengths)"
   ]
  },
  {
   "cell_type": "markdown",
   "metadata": {},
   "source": [
    "#### 3.8 Predict the labels for the samples from the `test set`. You are suggested to write a function for this.\n",
    "\n",
    "#### _To do this, use the `score` function for each stored model to obtain the log probability under the model for that sample. To calculate accuracy, find which model obtained the maximum score, and assign the sample that label._"
   ]
  },
  {
   "cell_type": "code",
   "execution_count": 272,
   "metadata": {},
   "outputs": [],
   "source": [
    "def predictLabel(models, x):\n",
    "    if x.size is 1:\n",
    "        # invalid sample\n",
    "        return 'invalid'\n",
    "    labels = []\n",
    "    scores = []\n",
    "    for label, model in models.items():\n",
    "        labels.append(label)\n",
    "        scores.append(model.score(x))\n",
    "    \n",
    "    return labels[np.argmax(scores)]"
   ]
  },
  {
   "cell_type": "code",
   "execution_count": 273,
   "metadata": {},
   "outputs": [],
   "source": [
    "y_pred = [predictLabel(models, x) for x in X_test]"
   ]
  },
  {
   "cell_type": "markdown",
   "metadata": {},
   "source": [
    "#### 3.9 What is the unweighted accuracy of the trained models when using `diag covariance` parameters??"
   ]
  },
  {
   "cell_type": "code",
   "execution_count": 274,
   "metadata": {},
   "outputs": [
    {
     "data": {
      "text/plain": [
       "0.5501661129568106"
      ]
     },
     "execution_count": 274,
     "metadata": {},
     "output_type": "execute_result"
    }
   ],
   "source": [
    "accuracy_score(y_test, y_pred)"
   ]
  },
  {
   "cell_type": "code",
   "execution_count": 114,
   "metadata": {},
   "outputs": [
    {
     "data": {
      "text/plain": [
       "0.5368148670900964"
      ]
     },
     "execution_count": 114,
     "metadata": {},
     "output_type": "execute_result"
    }
   ],
   "source": [
    "accuracy_score(y_test, y_pred) # ignore me im a past remenant"
   ]
  },
  {
   "cell_type": "markdown",
   "metadata": {},
   "source": [
    "#### 3.10 Use the function from `3.4` to obtain trained HMMs with `mat` set to `full` for each label using the corresponding samples from the `train set` and store it in a dictionary. \n",
    "\n",
    "#### In total, you should have 12 HMMs, one each for the `digits 0-9`, and one each for `plus` and `minus`."
   ]
  },
  {
   "cell_type": "code",
   "execution_count": 413,
   "metadata": {},
   "outputs": [
    {
     "name": "stdout",
     "output_type": "stream",
     "text": [
      "one\n"
     ]
    },
    {
     "name": "stderr",
     "output_type": "stream",
     "text": [
      "         1    -6383554.1718             +nan\n",
      "         2    -5928050.7302     +455503.4416\n",
      "         3    -5629270.9747     +298779.7555\n",
      "         4    -5505394.0721     +123876.9026\n",
      "         5    -5435982.7232      +69411.3489\n",
      "         6    -5404792.1776      +31190.5457\n",
      "         7    -5391022.0370      +13770.1405\n",
      "         8    -5383721.6057       +7300.4313\n",
      "         9    -5379183.3865       +4538.2192\n",
      "        10    -5375996.1997       +3187.1869\n"
     ]
    },
    {
     "name": "stdout",
     "output_type": "stream",
     "text": [
      "True\n",
      "two\n"
     ]
    },
    {
     "name": "stderr",
     "output_type": "stream",
     "text": [
      "         1    -6226919.0539             +nan\n",
      "         2    -5715460.8995     +511458.1544\n",
      "         3    -5428965.0563     +286495.8432\n",
      "         4    -5316257.7584     +112707.2979\n",
      "         5    -5255919.4833      +60338.2751\n",
      "         6    -5225407.5631      +30511.9202\n",
      "         7    -5210892.0622      +14515.5009\n",
      "         8    -5202954.8193       +7937.2429\n",
      "         9    -5197050.4685       +5904.3508\n",
      "        10    -5193036.1629       +4014.3056\n"
     ]
    },
    {
     "name": "stdout",
     "output_type": "stream",
     "text": [
      "True\n",
      "three\n"
     ]
    },
    {
     "name": "stderr",
     "output_type": "stream",
     "text": [
      "         1    -6221924.2624             +nan\n",
      "         2    -5751716.2808     +470207.9815\n",
      "         3    -5481907.3434     +269808.9374\n",
      "         4    -5375015.9369     +106891.4065\n",
      "         5    -5322318.2750      +52697.6619\n",
      "         6    -5297419.7563      +24898.5187\n",
      "         7    -5287314.4438      +10105.3125\n",
      "         8    -5281724.6655       +5589.7783\n",
      "         9    -5277720.0573       +4004.6082\n",
      "        10    -5274514.6197       +3205.4376\n"
     ]
    },
    {
     "name": "stdout",
     "output_type": "stream",
     "text": [
      "True\n",
      "four\n"
     ]
    },
    {
     "name": "stderr",
     "output_type": "stream",
     "text": [
      "         1    -6126776.3554             +nan\n",
      "         2    -5653012.5330     +473763.8224\n",
      "         3    -5359574.3308     +293438.2023\n",
      "         4    -5232761.3579     +126812.9729\n",
      "         5    -5182002.1004      +50759.2575\n",
      "         6    -5162085.4902      +19916.6102\n",
      "         7    -5152401.6080       +9683.8822\n",
      "         8    -5146200.5335       +6201.0746\n",
      "         9    -5142054.8211       +4145.7124\n",
      "        10    -5138978.6726       +3076.1485\n"
     ]
    },
    {
     "name": "stdout",
     "output_type": "stream",
     "text": [
      "True\n",
      "five\n"
     ]
    },
    {
     "name": "stderr",
     "output_type": "stream",
     "text": [
      "         1    -6294427.7069             +nan\n",
      "         2    -5917632.0522     +376795.6547\n",
      "         3    -5635658.4064     +281973.6458\n",
      "         4    -5509370.0569     +126288.3496\n",
      "         5    -5451403.4889      +57966.5679\n",
      "         6    -5428565.1116      +22838.3773\n",
      "         7    -5418866.8561       +9698.2555\n",
      "         8    -5413708.0403       +5158.8158\n",
      "         9    -5410280.1764       +3427.8638\n",
      "        10    -5407765.6155       +2514.5609\n"
     ]
    },
    {
     "name": "stdout",
     "output_type": "stream",
     "text": [
      "True\n",
      "six\n"
     ]
    },
    {
     "name": "stderr",
     "output_type": "stream",
     "text": [
      "         1    -6147956.8955             +nan\n",
      "         2    -5733847.0007     +414109.8948\n",
      "         3    -5456908.4384     +276938.5623\n",
      "         4    -5305645.1913     +151263.2471\n",
      "         5    -5218057.0751      +87588.1163\n",
      "         6    -5172062.5493      +45994.5258\n",
      "         7    -5147740.4513      +24322.0980\n",
      "         8    -5134024.8675      +13715.5837\n",
      "         9    -5125979.5086       +8045.3590\n",
      "        10    -5120916.1438       +5063.3648\n"
     ]
    },
    {
     "name": "stdout",
     "output_type": "stream",
     "text": [
      "True\n",
      "seven\n"
     ]
    },
    {
     "name": "stderr",
     "output_type": "stream",
     "text": [
      "         1    -6393381.8662             +nan\n",
      "         2    -5923041.5183     +470340.3479\n",
      "         3    -5640870.9257     +282170.5925\n",
      "         4    -5498478.8300     +142392.0958\n",
      "         5    -5430734.8858      +67743.9441\n",
      "         6    -5402091.2692      +28643.6166\n",
      "         7    -5388949.2664      +13142.0027\n",
      "         8    -5382361.9070       +6587.3594\n",
      "         9    -5378346.2052       +4015.7018\n",
      "        10    -5375567.3876       +2778.8176\n"
     ]
    },
    {
     "name": "stdout",
     "output_type": "stream",
     "text": [
      "True\n",
      "eight\n"
     ]
    },
    {
     "name": "stderr",
     "output_type": "stream",
     "text": [
      "         1    -6112441.7178             +nan\n",
      "         2    -5695094.8371     +417346.8807\n",
      "         3    -5395187.0501     +299907.7870\n",
      "         4    -5242787.4107     +152399.6394\n",
      "         5    -5176175.1639      +66612.2468\n",
      "         6    -5151383.3506      +24791.8133\n",
      "         7    -5139940.3234      +11443.0272\n",
      "         8    -5133651.2195       +6289.1039\n",
      "         9    -5129124.3293       +4526.8902\n",
      "        10    -5125010.7953       +4113.5340\n"
     ]
    },
    {
     "name": "stdout",
     "output_type": "stream",
     "text": [
      "True\n",
      "nine\n"
     ]
    },
    {
     "name": "stderr",
     "output_type": "stream",
     "text": [
      "         1    -6542704.5802             +nan\n",
      "         2    -6129502.9617     +413201.6185\n",
      "         3    -5852171.5789     +277331.3828\n",
      "         4    -5737278.8164     +114892.7625\n",
      "         5    -5674766.8084      +62512.0080\n",
      "         6    -5649224.7124      +25542.0960\n",
      "         7    -5637243.5775      +11981.1349\n",
      "         8    -5630595.9295       +6647.6480\n",
      "         9    -5626729.1322       +3866.7973\n",
      "        10    -5624090.3175       +2638.8147\n"
     ]
    },
    {
     "name": "stdout",
     "output_type": "stream",
     "text": [
      "True\n",
      "plus\n"
     ]
    },
    {
     "name": "stderr",
     "output_type": "stream",
     "text": [
      "         1      -80880.3055             +nan\n",
      "         2      -53763.0357      +27117.2698\n",
      "         3      -44238.3126       +9524.7231\n",
      "         4      -42846.9492       +1391.3634\n",
      "         5      -42494.4840        +352.4652\n",
      "         6      -42330.6857        +163.7983\n",
      "         7      -42245.7323         +84.9534\n",
      "         8      -42164.6258         +81.1065\n",
      "         9      -42115.5828         +49.0430\n",
      "        10      -42070.4463         +45.1366\n"
     ]
    },
    {
     "name": "stdout",
     "output_type": "stream",
     "text": [
      "True\n",
      "minus\n"
     ]
    },
    {
     "name": "stderr",
     "output_type": "stream",
     "text": [
      "         1      -78873.2176             +nan\n",
      "         2      -54384.3286      +24488.8890\n",
      "         3      -44651.0206       +9733.3080\n",
      "         4      -43223.9359       +1427.0847\n",
      "         5      -42702.6398        +521.2961\n",
      "         6      -42443.3635        +259.2763\n",
      "         7      -42245.2748        +198.0886\n",
      "         8      -42073.8073        +171.4676\n",
      "         9      -41981.2215         +92.5858\n"
     ]
    },
    {
     "name": "stdout",
     "output_type": "stream",
     "text": [
      "True\n"
     ]
    },
    {
     "name": "stderr",
     "output_type": "stream",
     "text": [
      "        10      -41898.5742         +82.6473\n"
     ]
    }
   ],
   "source": [
    "models2 = {}\n",
    "labels = digit_list + ['plus', 'minus']\n",
    "warnings.filterwarnings('ignore')\n",
    "for label in labels:\n",
    "    print(label)\n",
    "    features, lengths = getFeatures(X_train, y_train, label)\n",
    "    models2[label] = getGMMHMM(sequences=features, lengths=lengths, mat='full')"
   ]
  },
  {
   "cell_type": "markdown",
   "metadata": {},
   "source": [
    "#### 3.11 What is the unweighted accuracy of the trained models when using `full covariance` parameters?"
   ]
  },
  {
   "cell_type": "code",
   "execution_count": 415,
   "metadata": {},
   "outputs": [
    {
     "data": {
      "text/plain": [
       "0.7873754152823921"
      ]
     },
     "execution_count": 415,
     "metadata": {},
     "output_type": "execute_result"
    }
   ],
   "source": [
    "y_pred2 = [predictLabel(models2, x) for x in X_test]\n",
    "accuracy_score(y_test, y_pred2)"
   ]
  },
  {
   "cell_type": "code",
   "execution_count": 116,
   "metadata": {},
   "outputs": [
    {
     "data": {
      "text/plain": [
       "0.8063984944718889"
      ]
     },
     "execution_count": 116,
     "metadata": {},
     "output_type": "execute_result"
    }
   ],
   "source": [
    "y_pred2 = [predictLabel(models2, x) for x in X_test]\n",
    "accuracy_score(y_test, y_pred2) # ignore me im a past remenant"
   ]
  },
  {
   "cell_type": "markdown",
   "metadata": {},
   "source": [
    "---\n",
    "#### Now we have a spoken digit recognizer. Let's get onto making a spoken calculator.\n",
    "\n",
    "#### 3.12 Write a function that splits the given audio file by silences.\n",
    "\n",
    "#### _You can possibly look into `pydub` to accomplish this. Use parameters: `min_silence_len=100,silence_thresh=-25, keep_silence=50` to get the best individual segments Save the segments. on your system to be used in future._"
   ]
  },
  {
   "cell_type": "code",
   "execution_count": 208,
   "metadata": {},
   "outputs": [],
   "source": [
    "def splitFile(audio_segment, filename=None, output_path=None):\n",
    "    chunks = pydub.silence.split_on_silence(audio_segment, min_silence_len=100, silence_thresh=-45, keep_silence=50)\n",
    "    \n",
    "    if output_path is not None:\n",
    "        counter = 0\n",
    "        for chunk in chunks:\n",
    "            chunk.export(f\"{output_path}{filename}{counter}.wav\", format=\"wav\")\n",
    "            counter += 1\n",
    "            \n",
    "    return chunks"
   ]
  },
  {
   "cell_type": "markdown",
   "metadata": {},
   "source": [
    "#### 3.13 Write a function that would use the function from `3.3` to extract features for these individual segments, and merge the outputs to form a string."
   ]
  },
  {
   "cell_type": "code",
   "execution_count": 350,
   "metadata": {},
   "outputs": [],
   "source": [
    "# modified 3.3\n",
    "def extractMFB_2(audio_segment):    \n",
    "    leading_silence = detectLeadingSilence(audio_segment)\n",
    "    trimmed = audio_segment[leading_silence:]\n",
    "    samples = np.array(trimmed.get_array_of_samples()) \n",
    "    \n",
    "    # oh shoot we trimmed the entire thing, why?\n",
    "    if len(samples) == 0:\n",
    "        print(f\"empty trim! #{count}, DBs was: {audio_segment.dBFS}, filepath: {file_path}\")\n",
    "        return np.array([-1])\n",
    "    \n",
    "    fbank_feat = logfbank(samples, rate) #bam\n",
    "    return fbank_feat"
   ]
  },
  {
   "cell_type": "code",
   "execution_count": 217,
   "metadata": {},
   "outputs": [],
   "source": [
    "evalMap = {\"plus\": '+', \"minus\": '-', \"one\": '1', \"two\": '2', \"three\": '3', \"four\": '4',\n",
    "           \"five\": '5', \"six\": '7', \"seven\": '7', 'eight': '8', 'nine': '9'}"
   ]
  },
  {
   "cell_type": "code",
   "execution_count": 351,
   "metadata": {},
   "outputs": [],
   "source": [
    "def extractAndMerge(chunks, debug=False, model=models, expected_length=None):\n",
    "    fbanks = [extractMFB_2(chunk) for chunk in chunks]\n",
    "    preds = [predictLabel(model, fbank) for fbank in fbanks]\n",
    "    preds = [evalMap[pred] for pred in preds]\n",
    "    finalString = ' '.join([str(elem) for elem in preds]) \n",
    "    \n",
    "    return finalString, preds"
   ]
  },
  {
   "cell_type": "markdown",
   "metadata": {},
   "source": [
    "#### 3.14 Load 10 wav files for spoken calculation strings. (recorded by yourself or others -- feel free to share these files to find how well your model does for varying recordings)  \n",
    "\n",
    "#### _Remember to label these with both the calculation and the string corresponding to the spoken calculation. For example, for a wave file recorded saying `nine nine plus two zero`, have labels saying, `99+20` and `119` . Assume that all input files would be in this format._"
   ]
  },
  {
   "cell_type": "code",
   "execution_count": 341,
   "metadata": {},
   "outputs": [],
   "source": [
    "filenames = ['1+1+1', '1+5', '2+2', '21-10', '3+47', '31+29', '6-2', '8-8', '99+20', '9999+1']\n",
    "recordings_dir = \"./recordings/\"\n",
    "\n",
    "# load the wav files as a list of audio segments\n",
    "segments = []\n",
    "for file in filenames:\n",
    "    segments.append(AudioSegment.from_file(file=f\"{recordings_dir}{file}.wav\"))"
   ]
  },
  {
   "cell_type": "markdown",
   "metadata": {},
   "source": [
    "#### 3.15 For each wav file, split it using the function defined in `3.10` and then subsequently obtain the spoken string using function defined in `3.11`. Use the `eval` function to calculate the output."
   ]
  },
  {
   "cell_type": "code",
   "execution_count": 304,
   "metadata": {},
   "outputs": [],
   "source": [
    "import warnings\n",
    "warnings.filterwarnings('ignore')"
   ]
  },
  {
   "cell_type": "code",
   "execution_count": 425,
   "metadata": {},
   "outputs": [
    {
     "name": "stderr",
     "output_type": "stream",
     "text": [
      "WARNING:root:frame length (1103) is greater than FFT size (512), frame will be truncated. Increase NFFT to avoid.\n",
      "WARNING:root:frame length (1103) is greater than FFT size (512), frame will be truncated. Increase NFFT to avoid.\n",
      "WARNING:root:frame length (1103) is greater than FFT size (512), frame will be truncated. Increase NFFT to avoid.\n",
      "WARNING:root:frame length (1103) is greater than FFT size (512), frame will be truncated. Increase NFFT to avoid.\n",
      "WARNING:root:frame length (1103) is greater than FFT size (512), frame will be truncated. Increase NFFT to avoid.\n",
      "WARNING:root:frame length (1103) is greater than FFT size (512), frame will be truncated. Increase NFFT to avoid.\n",
      "WARNING:root:frame length (1103) is greater than FFT size (512), frame will be truncated. Increase NFFT to avoid.\n",
      "WARNING:root:frame length (1103) is greater than FFT size (512), frame will be truncated. Increase NFFT to avoid.\n"
     ]
    },
    {
     "name": "stdout",
     "output_type": "stream",
     "text": [
      "Accuracy for 1+1+1: 40.0%, exp was: '+ + + + +', preds: ['+', '+', '+', '+', '+']\n"
     ]
    },
    {
     "name": "stderr",
     "output_type": "stream",
     "text": [
      "WARNING:root:frame length (1103) is greater than FFT size (512), frame will be truncated. Increase NFFT to avoid.\n",
      "WARNING:root:frame length (1103) is greater than FFT size (512), frame will be truncated. Increase NFFT to avoid.\n",
      "WARNING:root:frame length (1103) is greater than FFT size (512), frame will be truncated. Increase NFFT to avoid.\n",
      "WARNING:root:frame length (1103) is greater than FFT size (512), frame will be truncated. Increase NFFT to avoid.\n"
     ]
    },
    {
     "name": "stdout",
     "output_type": "stream",
     "text": [
      "Accuracy for 1+5: 33.33333333333333%, exp was: '9 + 4', preds: ['9', '+', '4']\n",
      "Accuracy for 2+2: 33.33333333333333%, exp was: '9 + + 9', preds: ['9', '+', '+', '9']\n"
     ]
    },
    {
     "name": "stderr",
     "output_type": "stream",
     "text": [
      "WARNING:root:frame length (1103) is greater than FFT size (512), frame will be truncated. Increase NFFT to avoid.\n",
      "WARNING:root:frame length (1103) is greater than FFT size (512), frame will be truncated. Increase NFFT to avoid.\n",
      "WARNING:root:frame length (1103) is greater than FFT size (512), frame will be truncated. Increase NFFT to avoid.\n",
      "WARNING:root:frame length (1103) is greater than FFT size (512), frame will be truncated. Increase NFFT to avoid.\n",
      "WARNING:root:frame length (1103) is greater than FFT size (512), frame will be truncated. Increase NFFT to avoid.\n",
      "WARNING:root:frame length (1103) is greater than FFT size (512), frame will be truncated. Increase NFFT to avoid.\n"
     ]
    },
    {
     "name": "stdout",
     "output_type": "stream",
     "text": [
      "Accuracy for 21-10: 0.0%, exp was: '4 + + + +', preds: ['4', '+', '+', '+', '+']\n"
     ]
    },
    {
     "name": "stderr",
     "output_type": "stream",
     "text": [
      "WARNING:root:frame length (1103) is greater than FFT size (512), frame will be truncated. Increase NFFT to avoid.\n",
      "WARNING:root:frame length (1103) is greater than FFT size (512), frame will be truncated. Increase NFFT to avoid.\n",
      "WARNING:root:frame length (1103) is greater than FFT size (512), frame will be truncated. Increase NFFT to avoid.\n"
     ]
    },
    {
     "name": "stdout",
     "output_type": "stream",
     "text": [
      "Accuracy for 3+47: 25.0%, exp was: '+ + 1 +', preds: ['+', '+', '1', '+']\n"
     ]
    },
    {
     "name": "stderr",
     "output_type": "stream",
     "text": [
      "WARNING:root:frame length (1103) is greater than FFT size (512), frame will be truncated. Increase NFFT to avoid.\n",
      "WARNING:root:frame length (1103) is greater than FFT size (512), frame will be truncated. Increase NFFT to avoid.\n",
      "WARNING:root:frame length (1103) is greater than FFT size (512), frame will be truncated. Increase NFFT to avoid.\n",
      "WARNING:root:frame length (1103) is greater than FFT size (512), frame will be truncated. Increase NFFT to avoid.\n",
      "WARNING:root:frame length (1103) is greater than FFT size (512), frame will be truncated. Increase NFFT to avoid.\n",
      "WARNING:root:frame length (1103) is greater than FFT size (512), frame will be truncated. Increase NFFT to avoid.\n",
      "WARNING:root:frame length (1103) is greater than FFT size (512), frame will be truncated. Increase NFFT to avoid.\n"
     ]
    },
    {
     "name": "stdout",
     "output_type": "stream",
     "text": [
      "Accuracy for 31+29: 20.0%, exp was: '4 + + + +', preds: ['4', '+', '+', '+', '+']\n"
     ]
    },
    {
     "name": "stderr",
     "output_type": "stream",
     "text": [
      "WARNING:root:frame length (1103) is greater than FFT size (512), frame will be truncated. Increase NFFT to avoid.\n",
      "WARNING:root:frame length (1103) is greater than FFT size (512), frame will be truncated. Increase NFFT to avoid.\n",
      "WARNING:root:frame length (1103) is greater than FFT size (512), frame will be truncated. Increase NFFT to avoid.\n",
      "WARNING:root:frame length (1103) is greater than FFT size (512), frame will be truncated. Increase NFFT to avoid.\n",
      "WARNING:root:frame length (1103) is greater than FFT size (512), frame will be truncated. Increase NFFT to avoid.\n"
     ]
    },
    {
     "name": "stdout",
     "output_type": "stream",
     "text": [
      "Accuracy for 6-2: 0.0%, exp was: '+ + + 9', preds: ['+', '+', '+', '9']\n"
     ]
    },
    {
     "name": "stderr",
     "output_type": "stream",
     "text": [
      "WARNING:root:frame length (1103) is greater than FFT size (512), frame will be truncated. Increase NFFT to avoid.\n",
      "WARNING:root:frame length (1103) is greater than FFT size (512), frame will be truncated. Increase NFFT to avoid.\n",
      "WARNING:root:frame length (1103) is greater than FFT size (512), frame will be truncated. Increase NFFT to avoid.\n",
      "WARNING:root:frame length (1103) is greater than FFT size (512), frame will be truncated. Increase NFFT to avoid.\n"
     ]
    },
    {
     "name": "stdout",
     "output_type": "stream",
     "text": [
      "Accuracy for 8-8: 0.0%, exp was: '4 + + 1', preds: ['4', '+', '+', '1']\n"
     ]
    },
    {
     "name": "stderr",
     "output_type": "stream",
     "text": [
      "WARNING:root:frame length (1103) is greater than FFT size (512), frame will be truncated. Increase NFFT to avoid.\n",
      "WARNING:root:frame length (1103) is greater than FFT size (512), frame will be truncated. Increase NFFT to avoid.\n"
     ]
    },
    {
     "name": "stdout",
     "output_type": "stream",
     "text": [
      "Accuracy for 99+20: 20.0%, exp was: '4 + + 9 9', preds: ['4', '+', '+', '9', '9']\n"
     ]
    },
    {
     "name": "stderr",
     "output_type": "stream",
     "text": [
      "WARNING:root:frame length (1103) is greater than FFT size (512), frame will be truncated. Increase NFFT to avoid.\n",
      "WARNING:root:frame length (1103) is greater than FFT size (512), frame will be truncated. Increase NFFT to avoid.\n",
      "WARNING:root:frame length (1103) is greater than FFT size (512), frame will be truncated. Increase NFFT to avoid.\n",
      "WARNING:root:frame length (1103) is greater than FFT size (512), frame will be truncated. Increase NFFT to avoid.\n",
      "WARNING:root:frame length (1103) is greater than FFT size (512), frame will be truncated. Increase NFFT to avoid.\n",
      "WARNING:root:frame length (1103) is greater than FFT size (512), frame will be truncated. Increase NFFT to avoid.\n"
     ]
    },
    {
     "name": "stdout",
     "output_type": "stream",
     "text": [
      "Accuracy for 9999+1: 16.666666666666664%, exp was: '+ 4 + + + +', preds: ['+', '4', '+', '+', '+', '+']\n"
     ]
    }
   ],
   "source": [
    "outputs = []\n",
    "predictions = []\n",
    "\n",
    "for i in range(len(filenames)):\n",
    "    chunks = splitFile(segments[i])\n",
    "    expression, preds = extractAndMerge(chunks, debug=True, expected_length=len(filenames[i]), model=models2)\n",
    "    print(f\"Accuracy for {filenames[i]}: {getAccuracy(filenames[i], preds)}%,\", \n",
    "          f\"exp was: '{expression}', preds: {preds}\" )\n",
    "    try:\n",
    "        outputs.append(eval(expression))\n",
    "    except:\n",
    "        outputs.append(-21) # wrong\n",
    "    predictions.append(preds)"
   ]
  },
  {
   "cell_type": "markdown",
   "metadata": {},
   "source": [
    "#### 3.16 What is the average character compared accuracy for the spoken strings i.e. if you get 3 out of 4 characters right, the `per-char-acc` for that wave file is 75%. Calculate the average accuracy across all spoken string samples. You are suggested to write a function to do this for each string."
   ]
  },
  {
   "cell_type": "code",
   "execution_count": 407,
   "metadata": {},
   "outputs": [],
   "source": [
    "def getAccuracy(original, predicted):\n",
    "    total = len(original)\n",
    "    correct = 0\n",
    "    for i in range(min(len(predicted), len(original))):\n",
    "        if original[i] == predicted[i]:\n",
    "            correct += 1\n",
    "    return (correct / total)*100"
   ]
  },
  {
   "cell_type": "code",
   "execution_count": 426,
   "metadata": {},
   "outputs": [
    {
     "name": "stdout",
     "output_type": "stream",
     "text": [
      "The average accuracy was: 18.833333333333332%\n"
     ]
    }
   ],
   "source": [
    "def getAvgAcccuracy(origs, preds):\n",
    "    accs = []\n",
    "    for i in range(len(origs)):\n",
    "        accs.append(getAccuracy(origs[i], preds[i]))\n",
    "    return np.mean(accs)\n",
    "\n",
    "avg_accy = getAvgAcccuracy(filenames, predictions)\n",
    "print(f\"The average accuracy was: {avg_accy}%\")"
   ]
  },
  {
   "cell_type": "markdown",
   "metadata": {},
   "source": [
    "#### 3.17 What is the calculation output accuracy for the spoken strings i.e. if you get 4 out of 8 calculations right, the `calc-out-acc` for all your inputs is 50%. You are suggested to write a function to do this for each string."
   ]
  },
  {
   "cell_type": "code",
   "execution_count": 427,
   "metadata": {},
   "outputs": [
    {
     "name": "stdout",
     "output_type": "stream",
     "text": [
      "The calc_out_acc is: 0.0%\n"
     ]
    }
   ],
   "source": [
    "# filenames = ['1+1+1', '1+5', '2+2', '21-10', '3+47', '31+29', '6-2', '8-8', '99+20', '9999+1']\n",
    "true_vals = [3, 6, 4, 31, 50, 60, 4, 0, 110, 1000]\n",
    "num_correct = 0\n",
    "for i in range(len(true_vals)):\n",
    "    if true_vals[i] == outputs[i]:\n",
    "        num_correct += 1\n",
    "\n",
    "calc_out_acc = num_correct / len(true_vals)\n",
    "print(f\"The calc_out_acc is: {calc_out_acc}%\")"
   ]
  },
  {
   "cell_type": "markdown",
   "metadata": {},
   "source": [
    "#### Testing this calculator\n",
    "\n",
    "#### 3.18 We have uptil now considered clean data. Both the digits and the operands were recorded in a minimal noise environment. What happens when we have noise in our test files? (Someone tries to use this calculator at a bus stop).\n",
    "\n",
    "#### Let's start with creating artifical noise. We will pollute just the test samples of each digit and operator with noise. Use the `WhiteNoise` from `pydub.generators` and `overlay` it over the original wave files to get noisy samples. How well does the already trained HMM perform (Use functions from `3.8`)?"
   ]
  },
  {
   "cell_type": "code",
   "execution_count": 419,
   "metadata": {},
   "outputs": [],
   "source": [
    "from pydub.generators import WhiteNoise\n",
    "\n",
    "def getNoisy(relative_path=None, subtraction=45, segment=None):\n",
    "    if relative_path is None and segment is None:\n",
    "        raise ValueError(\"invalid args\")\n",
    "        \n",
    "    if relative_path:\n",
    "        audio_segment = AudioSegment.from_file(file=relative_path)\n",
    "    else:\n",
    "        audio_segment = segment\n",
    "    noise = WhiteNoise().to_audio_segment(duration=len(audio_segment))\n",
    "    noise = noise-subtraction\n",
    "    combined = audio_segment.overlay(noise)\n",
    "    return combined"
   ]
  },
  {
   "cell_type": "code",
   "execution_count": 420,
   "metadata": {},
   "outputs": [],
   "source": [
    "audio = AudioSegment.from_file(file=testNames[0])\n",
    "play(audio)\n",
    "noisy = getNoisy(relative_path=testNames[0])\n",
    "play(noisy)"
   ]
  },
  {
   "cell_type": "code",
   "execution_count": 421,
   "metadata": {},
   "outputs": [
    {
     "data": {
      "text/plain": [
       "4515"
      ]
     },
     "execution_count": 421,
     "metadata": {},
     "output_type": "execute_result"
    }
   ],
   "source": [
    "testPaths = data2[data2[\"relative_path\"].isin(testNames)]\n",
    "len(testPaths[\"relative_path\"])"
   ]
  },
  {
   "cell_type": "code",
   "execution_count": 389,
   "metadata": {},
   "outputs": [],
   "source": [
    "X_audios = [getNoisy(relative_path=path) for path in testPaths[\"relative_path\"]]"
   ]
  },
  {
   "cell_type": "code",
   "execution_count": 390,
   "metadata": {},
   "outputs": [
    {
     "data": {
      "text/plain": [
       "4515"
      ]
     },
     "execution_count": 390,
     "metadata": {},
     "output_type": "execute_result"
    }
   ],
   "source": [
    "len(X_audios)"
   ]
  },
  {
   "cell_type": "code",
   "execution_count": 443,
   "metadata": {},
   "outputs": [],
   "source": [
    "# X_test_noisy = np.array([extractMFB_2(aud) for aud in X_audios])\n",
    "# y_pred_noisy = [predictLabel(models2, x) for x in X_test_noisy] \n",
    "# COMMENTED TO AVOID 1000 PAGE WARNINGS. "
   ]
  },
  {
   "cell_type": "code",
   "execution_count": 442,
   "metadata": {},
   "outputs": [],
   "source": [
    "X_test_noisy = X_test_noisy\n",
    "y_pred_noisy = y_pred_noisy"
   ]
  },
  {
   "cell_type": "code",
   "execution_count": 429,
   "metadata": {},
   "outputs": [
    {
     "name": "stdout",
     "output_type": "stream",
     "text": [
      "0.14817275747508304\n"
     ]
    }
   ],
   "source": [
    "print(accuracy_score(y_test, y_pred_noisy))"
   ]
  },
  {
   "cell_type": "markdown",
   "metadata": {},
   "source": [
    "#### 3.19 Load your test wave files for string calculation again. Pollute the complete spoken calculation string wave files with white noise. How well does the already trained HMM perform on these string calculations (Use functions from `3.14` and `3.15`)?"
   ]
  },
  {
   "cell_type": "code",
   "execution_count": 431,
   "metadata": {},
   "outputs": [],
   "source": [
    "noisy_segments = [getNoisy(segment=seg) for seg in segments]\n",
    "# X_test_noisy = np.array([extractMFB_2(aud) for aud in X_audios])"
   ]
  },
  {
   "cell_type": "code",
   "execution_count": 432,
   "metadata": {},
   "outputs": [
    {
     "name": "stderr",
     "output_type": "stream",
     "text": [
      "WARNING:root:frame length (1103) is greater than FFT size (512), frame will be truncated. Increase NFFT to avoid.\n",
      "WARNING:root:frame length (1103) is greater than FFT size (512), frame will be truncated. Increase NFFT to avoid.\n",
      "WARNING:root:frame length (1103) is greater than FFT size (512), frame will be truncated. Increase NFFT to avoid.\n",
      "WARNING:root:frame length (1103) is greater than FFT size (512), frame will be truncated. Increase NFFT to avoid.\n",
      "WARNING:root:frame length (1103) is greater than FFT size (512), frame will be truncated. Increase NFFT to avoid.\n",
      "WARNING:root:frame length (1103) is greater than FFT size (512), frame will be truncated. Increase NFFT to avoid.\n",
      "WARNING:root:frame length (1103) is greater than FFT size (512), frame will be truncated. Increase NFFT to avoid.\n",
      "WARNING:root:frame length (1103) is greater than FFT size (512), frame will be truncated. Increase NFFT to avoid.\n"
     ]
    },
    {
     "name": "stdout",
     "output_type": "stream",
     "text": [
      "Accuracy for 1+1+1: 0.0%, exp was: '4 5 4 5 4', preds: ['4', '5', '4', '5', '4']\n"
     ]
    },
    {
     "name": "stderr",
     "output_type": "stream",
     "text": [
      "WARNING:root:frame length (1103) is greater than FFT size (512), frame will be truncated. Increase NFFT to avoid.\n",
      "WARNING:root:frame length (1103) is greater than FFT size (512), frame will be truncated. Increase NFFT to avoid.\n",
      "WARNING:root:frame length (1103) is greater than FFT size (512), frame will be truncated. Increase NFFT to avoid.\n",
      "WARNING:root:frame length (1103) is greater than FFT size (512), frame will be truncated. Increase NFFT to avoid.\n"
     ]
    },
    {
     "name": "stdout",
     "output_type": "stream",
     "text": [
      "Accuracy for 1+5: 33.33333333333333%, exp was: '2 5 5', preds: ['2', '5', '5']\n"
     ]
    },
    {
     "name": "stderr",
     "output_type": "stream",
     "text": [
      "WARNING:root:frame length (1103) is greater than FFT size (512), frame will be truncated. Increase NFFT to avoid.\n",
      "WARNING:root:frame length (1103) is greater than FFT size (512), frame will be truncated. Increase NFFT to avoid.\n"
     ]
    },
    {
     "name": "stdout",
     "output_type": "stream",
     "text": [
      "Accuracy for 2+2: 0.0%, exp was: '5 5 5 4', preds: ['5', '5', '5', '4']\n"
     ]
    },
    {
     "name": "stderr",
     "output_type": "stream",
     "text": [
      "WARNING:root:frame length (1103) is greater than FFT size (512), frame will be truncated. Increase NFFT to avoid.\n",
      "WARNING:root:frame length (1103) is greater than FFT size (512), frame will be truncated. Increase NFFT to avoid.\n",
      "WARNING:root:frame length (1103) is greater than FFT size (512), frame will be truncated. Increase NFFT to avoid.\n"
     ]
    },
    {
     "name": "stdout",
     "output_type": "stream",
     "text": [
      "Accuracy for 21-10: 0.0%, exp was: '9 5 5 5 5', preds: ['9', '5', '5', '5', '5']\n"
     ]
    },
    {
     "name": "stderr",
     "output_type": "stream",
     "text": [
      "WARNING:root:frame length (1103) is greater than FFT size (512), frame will be truncated. Increase NFFT to avoid.\n",
      "WARNING:root:frame length (1103) is greater than FFT size (512), frame will be truncated. Increase NFFT to avoid.\n",
      "WARNING:root:frame length (1103) is greater than FFT size (512), frame will be truncated. Increase NFFT to avoid.\n",
      "WARNING:root:frame length (1103) is greater than FFT size (512), frame will be truncated. Increase NFFT to avoid.\n",
      "WARNING:root:frame length (1103) is greater than FFT size (512), frame will be truncated. Increase NFFT to avoid.\n"
     ]
    },
    {
     "name": "stdout",
     "output_type": "stream",
     "text": [
      "Accuracy for 3+47: 0.0%, exp was: '4 5 5 5', preds: ['4', '5', '5', '5']\n"
     ]
    },
    {
     "name": "stderr",
     "output_type": "stream",
     "text": [
      "WARNING:root:frame length (1103) is greater than FFT size (512), frame will be truncated. Increase NFFT to avoid.\n",
      "WARNING:root:frame length (1103) is greater than FFT size (512), frame will be truncated. Increase NFFT to avoid.\n",
      "WARNING:root:frame length (1103) is greater than FFT size (512), frame will be truncated. Increase NFFT to avoid.\n",
      "WARNING:root:frame length (1103) is greater than FFT size (512), frame will be truncated. Increase NFFT to avoid.\n"
     ]
    },
    {
     "name": "stdout",
     "output_type": "stream",
     "text": [
      "Accuracy for 31+29: 0.0%, exp was: '4 4 5 5 4', preds: ['4', '4', '5', '5', '4']\n"
     ]
    },
    {
     "name": "stderr",
     "output_type": "stream",
     "text": [
      "WARNING:root:frame length (1103) is greater than FFT size (512), frame will be truncated. Increase NFFT to avoid.\n",
      "WARNING:root:frame length (1103) is greater than FFT size (512), frame will be truncated. Increase NFFT to avoid.\n",
      "WARNING:root:frame length (1103) is greater than FFT size (512), frame will be truncated. Increase NFFT to avoid.\n",
      "WARNING:root:frame length (1103) is greater than FFT size (512), frame will be truncated. Increase NFFT to avoid.\n",
      "WARNING:root:frame length (1103) is greater than FFT size (512), frame will be truncated. Increase NFFT to avoid.\n",
      "WARNING:root:frame length (1103) is greater than FFT size (512), frame will be truncated. Increase NFFT to avoid.\n",
      "WARNING:root:frame length (1103) is greater than FFT size (512), frame will be truncated. Increase NFFT to avoid.\n",
      "WARNING:root:frame length (1103) is greater than FFT size (512), frame will be truncated. Increase NFFT to avoid.\n"
     ]
    },
    {
     "name": "stdout",
     "output_type": "stream",
     "text": [
      "Accuracy for 6-2: 0.0%, exp was: '5 5 5 9', preds: ['5', '5', '5', '9']\n"
     ]
    },
    {
     "name": "stderr",
     "output_type": "stream",
     "text": [
      "WARNING:root:frame length (1103) is greater than FFT size (512), frame will be truncated. Increase NFFT to avoid.\n",
      "WARNING:root:frame length (1103) is greater than FFT size (512), frame will be truncated. Increase NFFT to avoid.\n",
      "WARNING:root:frame length (1103) is greater than FFT size (512), frame will be truncated. Increase NFFT to avoid.\n"
     ]
    },
    {
     "name": "stdout",
     "output_type": "stream",
     "text": [
      "Accuracy for 8-8: 0.0%, exp was: '4 5 7 1', preds: ['4', '5', '7', '1']\n"
     ]
    },
    {
     "name": "stderr",
     "output_type": "stream",
     "text": [
      "WARNING:root:frame length (1103) is greater than FFT size (512), frame will be truncated. Increase NFFT to avoid.\n",
      "WARNING:root:frame length (1103) is greater than FFT size (512), frame will be truncated. Increase NFFT to avoid.\n"
     ]
    },
    {
     "name": "stdout",
     "output_type": "stream",
     "text": [
      "Accuracy for 99+20: 0.0%, exp was: '4 4 5 5 4', preds: ['4', '4', '5', '5', '4']\n"
     ]
    },
    {
     "name": "stderr",
     "output_type": "stream",
     "text": [
      "WARNING:root:frame length (1103) is greater than FFT size (512), frame will be truncated. Increase NFFT to avoid.\n",
      "WARNING:root:frame length (1103) is greater than FFT size (512), frame will be truncated. Increase NFFT to avoid.\n",
      "WARNING:root:frame length (1103) is greater than FFT size (512), frame will be truncated. Increase NFFT to avoid.\n",
      "WARNING:root:frame length (1103) is greater than FFT size (512), frame will be truncated. Increase NFFT to avoid.\n",
      "WARNING:root:frame length (1103) is greater than FFT size (512), frame will be truncated. Increase NFFT to avoid.\n",
      "WARNING:root:frame length (1103) is greater than FFT size (512), frame will be truncated. Increase NFFT to avoid.\n"
     ]
    },
    {
     "name": "stdout",
     "output_type": "stream",
     "text": [
      "Accuracy for 9999+1: 0.0%, exp was: '4 4 4 4 5 4', preds: ['4', '4', '4', '4', '5', '4']\n"
     ]
    }
   ],
   "source": [
    "outputs = []\n",
    "predictions = []\n",
    "\n",
    "for i in range(len(filenames)):\n",
    "    chunks = splitFile(noisy_segments[i])\n",
    "    expression, preds = extractAndMerge(chunks, debug=True, expected_length=len(filenames[i]), model=models2)\n",
    "    print(f\"Accuracy for {filenames[i]}: {getAccuracy(filenames[i], preds)}%,\", \n",
    "          f\"exp was: '{expression}', preds: {preds}\" )\n",
    "    try:\n",
    "        outputs.append(eval(expression))\n",
    "    except:\n",
    "        outputs.append(-21)\n",
    "    predictions.append(preds)"
   ]
  },
  {
   "cell_type": "code",
   "execution_count": 433,
   "metadata": {},
   "outputs": [
    {
     "name": "stdout",
     "output_type": "stream",
     "text": [
      "The average accuracy was: 3.333333333333333%\n"
     ]
    }
   ],
   "source": [
    "avg_accy = getAvgAcccuracy(filenames, predictions)\n",
    "print(f\"The average accuracy was: {avg_accy}%\")"
   ]
  },
  {
   "cell_type": "code",
   "execution_count": 434,
   "metadata": {},
   "outputs": [
    {
     "name": "stdout",
     "output_type": "stream",
     "text": [
      "The calc_out_acc is: 0.0%\n"
     ]
    }
   ],
   "source": [
    "num_correct = 0\n",
    "for i in range(len(true_vals)):\n",
    "    if true_vals[i] == outputs[i]:\n",
    "        num_correct += 1\n",
    "\n",
    "calc_out_acc = num_correct / len(true_vals)\n",
    "print(f\"The calc_out_acc is: {calc_out_acc}%\")"
   ]
  },
  {
   "cell_type": "markdown",
   "metadata": {},
   "source": [
    "#### 3.20 Let's try adding other kinds of noise. \n",
    "\n",
    "#### One option to add environmental noise is to use a `audio event` wave file and `overlay` it over the original wave file. `Overlay` the file provided on the canvas `running_tap.wav` at varying soundlevels onto the original wave files in the test set of digits and operators. How well does the already trained HMM perform on these noisy samples (Use functions from `3.8`)?"
   ]
  },
  {
   "cell_type": "code",
   "execution_count": 376,
   "metadata": {},
   "outputs": [],
   "source": [
    "beat = AudioSegment.from_wav(\"./running_tap.wav\")\n",
    "beat_levels = [20, 10, 0, -10, -20]\n",
    "def getOverlayed(tap, relative_path=None, segment=None, level=0):\n",
    "    if relative_path is None and segment is None:\n",
    "        raise ValueError(\"invalid args\")\n",
    "        \n",
    "    if relative_path:\n",
    "        audio_segment = AudioSegment.from_file(file=relative_path)\n",
    "    else:\n",
    "        audio_segment = segment\n",
    "        \n",
    "    # Mix with our original loop\n",
    "    tap2 = tap + level\n",
    "    mixed = tap2[:len(audio_segment)].overlay(audio_segment)\n",
    "    return mixed"
   ]
  },
  {
   "cell_type": "code",
   "execution_count": 374,
   "metadata": {},
   "outputs": [],
   "source": [
    "audio = AudioSegment.from_file(file=testNames[0])\n",
    "play(audio)\n",
    "noisy = getOverlayed(beat, segment=audio, level=20)\n",
    "play(noisy)\n",
    "noisy = getOverlayed(audio, beat, level=10)\n",
    "play(noisy)\n",
    "noisy = getOverlayed(audio, beat, level=-10)\n",
    "play(noisy)\n",
    "noisy = getOverlayed(audio, beat, level=-20)\n",
    "play(noisy)"
   ]
  },
  {
   "cell_type": "code",
   "execution_count": 445,
   "metadata": {},
   "outputs": [],
   "source": [
    "# overlayed_preds = []\n",
    "# accuracy_dict = {}\n",
    "\n",
    "# for beat_level in beat_levels:\n",
    "#     print(f\"On beat_level: {beat_level}\")\n",
    "#     X_audios = [getOverlayed(beat, relative_path=path, level=beat_level) for path in testPaths[\"relative_path\"]]\n",
    "#     X_test_overlayed = np.array([extractMFB_2(aud) for aud in X_audios])\n",
    "#     y_pred_overlayed = [predictLabel(models2, x) for x in X_test_overlayed]\n",
    "#     overlayed_preds.append(y_pred_overlayed)\n",
    "#     acc = accuracy_score(y_test, y_pred_overlayed)\n",
    "#     accuracy_dict[beat_level] = acc\n",
    "#     warnings.filterwarnings('ignore')\n",
    "#     print(f\"accuracy for level={beat_level} is {acc}\")\n",
    "\n",
    "# COMMENTED TO AVOID 1000 PAGE WARNINGS. "
   ]
  },
  {
   "cell_type": "code",
   "execution_count": 444,
   "metadata": {},
   "outputs": [],
   "source": [
    "overlayed_preds = overlayed_preds\n",
    "accuracy_dict = accuracy_dict"
   ]
  },
  {
   "cell_type": "code",
   "execution_count": 436,
   "metadata": {},
   "outputs": [
    {
     "name": "stdout",
     "output_type": "stream",
     "text": [
      "accuracy for level=20 is 0.11273532668881506\n",
      "accuracy for level=10 is 0.11716500553709856\n",
      "accuracy for level=0 is 0.11960132890365449\n",
      "accuracy for level=-10 is 0.12868217054263567\n",
      "accuracy for level=-20 is 0.14817275747508304\n"
     ]
    }
   ],
   "source": [
    "for key, value in accuracy_dict.items():\n",
    "    print(f\"accuracy for level={key} is {value}\")"
   ]
  },
  {
   "cell_type": "markdown",
   "metadata": {},
   "source": [
    "#### 3.21 `Overlay` the file provided on the canvas `running_tap.wav` at varying soundlevels onto the spoken calculation string wave files. How well does the already trained HMM perform on these noisy samples (Use functions from `3.14` and `3.15`)?"
   ]
  },
  {
   "cell_type": "code",
   "execution_count": 403,
   "metadata": {},
   "outputs": [
    {
     "data": {
      "text/html": [
       "\n",
       "                    <audio controls>\n",
       "                        <source src=\"data:audio/mpeg;base64,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\" type=\"audio/mpeg\"/>\n",
       "                        Your browser does not support the audio element.\n",
       "                    </audio>\n",
       "                  "
      ],
      "text/plain": [
       "<pydub.audio_segment.AudioSegment at 0x1a44e538d0>"
      ]
     },
     "execution_count": 403,
     "metadata": {},
     "output_type": "execute_result"
    }
   ],
   "source": [
    "segments[0]"
   ]
  },
  {
   "cell_type": "code",
   "execution_count": 439,
   "metadata": {},
   "outputs": [
    {
     "name": "stdout",
     "output_type": "stream",
     "text": [
      "On beat_level: 20\n"
     ]
    },
    {
     "name": "stderr",
     "output_type": "stream",
     "text": [
      "WARNING:root:frame length (1103) is greater than FFT size (512), frame will be truncated. Increase NFFT to avoid.\n",
      "WARNING:root:frame length (1103) is greater than FFT size (512), frame will be truncated. Increase NFFT to avoid.\n"
     ]
    },
    {
     "name": "stdout",
     "output_type": "stream",
     "text": [
      "Accuracy for 1+1+1: 0.0%, exp was: '5', preds: ['5']\n"
     ]
    },
    {
     "name": "stderr",
     "output_type": "stream",
     "text": [
      "WARNING:root:frame length (1103) is greater than FFT size (512), frame will be truncated. Increase NFFT to avoid.\n"
     ]
    },
    {
     "name": "stdout",
     "output_type": "stream",
     "text": [
      "Accuracy for 1+5: 0.0%, exp was: '5', preds: ['5']\n",
      "Accuracy for 2+2: 0.0%, exp was: '5', preds: ['5']\n"
     ]
    },
    {
     "name": "stderr",
     "output_type": "stream",
     "text": [
      "WARNING:root:frame length (1103) is greater than FFT size (512), frame will be truncated. Increase NFFT to avoid.\n"
     ]
    },
    {
     "name": "stdout",
     "output_type": "stream",
     "text": [
      "Accuracy for 21-10: 0.0%, exp was: '5', preds: ['5']\n"
     ]
    },
    {
     "name": "stderr",
     "output_type": "stream",
     "text": [
      "WARNING:root:frame length (1103) is greater than FFT size (512), frame will be truncated. Increase NFFT to avoid.\n"
     ]
    },
    {
     "name": "stdout",
     "output_type": "stream",
     "text": [
      "Accuracy for 3+47: 0.0%, exp was: '5', preds: ['5']\n"
     ]
    },
    {
     "name": "stderr",
     "output_type": "stream",
     "text": [
      "WARNING:root:frame length (1103) is greater than FFT size (512), frame will be truncated. Increase NFFT to avoid.\n",
      "WARNING:root:frame length (1103) is greater than FFT size (512), frame will be truncated. Increase NFFT to avoid.\n"
     ]
    },
    {
     "name": "stdout",
     "output_type": "stream",
     "text": [
      "Accuracy for 31+29: 0.0%, exp was: '5', preds: ['5']\n"
     ]
    },
    {
     "name": "stderr",
     "output_type": "stream",
     "text": [
      "WARNING:root:frame length (1103) is greater than FFT size (512), frame will be truncated. Increase NFFT to avoid.\n"
     ]
    },
    {
     "name": "stdout",
     "output_type": "stream",
     "text": [
      "Accuracy for 6-2: 0.0%, exp was: '5', preds: ['5']\n"
     ]
    },
    {
     "name": "stderr",
     "output_type": "stream",
     "text": [
      "WARNING:root:frame length (1103) is greater than FFT size (512), frame will be truncated. Increase NFFT to avoid.\n"
     ]
    },
    {
     "name": "stdout",
     "output_type": "stream",
     "text": [
      "Accuracy for 8-8: 0.0%, exp was: '5', preds: ['5']\n",
      "Accuracy for 99+20: 0.0%, exp was: '5', preds: ['5']\n"
     ]
    },
    {
     "name": "stderr",
     "output_type": "stream",
     "text": [
      "WARNING:root:frame length (1103) is greater than FFT size (512), frame will be truncated. Increase NFFT to avoid.\n"
     ]
    },
    {
     "name": "stdout",
     "output_type": "stream",
     "text": [
      "Accuracy for 9999+1: 0.0%, exp was: '5', preds: ['5']\n",
      "On beat_level: 10\n"
     ]
    },
    {
     "name": "stderr",
     "output_type": "stream",
     "text": [
      "WARNING:root:frame length (1103) is greater than FFT size (512), frame will be truncated. Increase NFFT to avoid.\n",
      "WARNING:root:frame length (1103) is greater than FFT size (512), frame will be truncated. Increase NFFT to avoid.\n"
     ]
    },
    {
     "name": "stdout",
     "output_type": "stream",
     "text": [
      "Accuracy for 1+1+1: 0.0%, exp was: '4', preds: ['4']\n"
     ]
    },
    {
     "name": "stderr",
     "output_type": "stream",
     "text": [
      "WARNING:root:frame length (1103) is greater than FFT size (512), frame will be truncated. Increase NFFT to avoid.\n"
     ]
    },
    {
     "name": "stdout",
     "output_type": "stream",
     "text": [
      "Accuracy for 1+5: 0.0%, exp was: '4', preds: ['4']\n"
     ]
    },
    {
     "name": "stderr",
     "output_type": "stream",
     "text": [
      "WARNING:root:frame length (1103) is greater than FFT size (512), frame will be truncated. Increase NFFT to avoid.\n"
     ]
    },
    {
     "name": "stdout",
     "output_type": "stream",
     "text": [
      "Accuracy for 2+2: 0.0%, exp was: '4', preds: ['4']\n"
     ]
    },
    {
     "name": "stderr",
     "output_type": "stream",
     "text": [
      "WARNING:root:frame length (1103) is greater than FFT size (512), frame will be truncated. Increase NFFT to avoid.\n"
     ]
    },
    {
     "name": "stdout",
     "output_type": "stream",
     "text": [
      "Accuracy for 21-10: 0.0%, exp was: '4', preds: ['4']\n",
      "Accuracy for 3+47: 0.0%, exp was: '4', preds: ['4']\n"
     ]
    },
    {
     "name": "stderr",
     "output_type": "stream",
     "text": [
      "WARNING:root:frame length (1103) is greater than FFT size (512), frame will be truncated. Increase NFFT to avoid.\n",
      "WARNING:root:frame length (1103) is greater than FFT size (512), frame will be truncated. Increase NFFT to avoid.\n"
     ]
    },
    {
     "name": "stdout",
     "output_type": "stream",
     "text": [
      "Accuracy for 31+29: 0.0%, exp was: '4', preds: ['4']\n"
     ]
    },
    {
     "name": "stderr",
     "output_type": "stream",
     "text": [
      "WARNING:root:frame length (1103) is greater than FFT size (512), frame will be truncated. Increase NFFT to avoid.\n"
     ]
    },
    {
     "name": "stdout",
     "output_type": "stream",
     "text": [
      "Accuracy for 6-2: 0.0%, exp was: '4', preds: ['4']\n",
      "Accuracy for 8-8: 0.0%, exp was: '4', preds: ['4']\n"
     ]
    },
    {
     "name": "stderr",
     "output_type": "stream",
     "text": [
      "WARNING:root:frame length (1103) is greater than FFT size (512), frame will be truncated. Increase NFFT to avoid.\n"
     ]
    },
    {
     "name": "stdout",
     "output_type": "stream",
     "text": [
      "Accuracy for 99+20: 0.0%, exp was: '4', preds: ['4']\n"
     ]
    },
    {
     "name": "stderr",
     "output_type": "stream",
     "text": [
      "WARNING:root:frame length (1103) is greater than FFT size (512), frame will be truncated. Increase NFFT to avoid.\n"
     ]
    },
    {
     "name": "stdout",
     "output_type": "stream",
     "text": [
      "Accuracy for 9999+1: 0.0%, exp was: '4', preds: ['4']\n",
      "On beat_level: 0\n"
     ]
    },
    {
     "name": "stderr",
     "output_type": "stream",
     "text": [
      "WARNING:root:frame length (1103) is greater than FFT size (512), frame will be truncated. Increase NFFT to avoid.\n",
      "WARNING:root:frame length (1103) is greater than FFT size (512), frame will be truncated. Increase NFFT to avoid.\n"
     ]
    },
    {
     "name": "stdout",
     "output_type": "stream",
     "text": [
      "Accuracy for 1+1+1: 0.0%, exp was: '4', preds: ['4']\n",
      "Accuracy for 1+5: 0.0%, exp was: '4', preds: ['4']\n"
     ]
    },
    {
     "name": "stderr",
     "output_type": "stream",
     "text": [
      "WARNING:root:frame length (1103) is greater than FFT size (512), frame will be truncated. Increase NFFT to avoid.\n"
     ]
    },
    {
     "name": "stdout",
     "output_type": "stream",
     "text": [
      "Accuracy for 2+2: 0.0%, exp was: '4', preds: ['4']\n"
     ]
    },
    {
     "name": "stderr",
     "output_type": "stream",
     "text": [
      "WARNING:root:frame length (1103) is greater than FFT size (512), frame will be truncated. Increase NFFT to avoid.\n"
     ]
    },
    {
     "name": "stdout",
     "output_type": "stream",
     "text": [
      "Accuracy for 21-10: 0.0%, exp was: '4', preds: ['4']\n"
     ]
    },
    {
     "name": "stderr",
     "output_type": "stream",
     "text": [
      "WARNING:root:frame length (1103) is greater than FFT size (512), frame will be truncated. Increase NFFT to avoid.\n"
     ]
    },
    {
     "name": "stdout",
     "output_type": "stream",
     "text": [
      "Accuracy for 3+47: 0.0%, exp was: '4', preds: ['4']\n"
     ]
    },
    {
     "name": "stderr",
     "output_type": "stream",
     "text": [
      "WARNING:root:frame length (1103) is greater than FFT size (512), frame will be truncated. Increase NFFT to avoid.\n",
      "WARNING:root:frame length (1103) is greater than FFT size (512), frame will be truncated. Increase NFFT to avoid.\n"
     ]
    },
    {
     "name": "stdout",
     "output_type": "stream",
     "text": [
      "Accuracy for 31+29: 0.0%, exp was: '4', preds: ['4']\n"
     ]
    },
    {
     "name": "stderr",
     "output_type": "stream",
     "text": [
      "WARNING:root:frame length (1103) is greater than FFT size (512), frame will be truncated. Increase NFFT to avoid.\n"
     ]
    },
    {
     "name": "stdout",
     "output_type": "stream",
     "text": [
      "Accuracy for 6-2: 0.0%, exp was: '4', preds: ['4']\n"
     ]
    },
    {
     "name": "stderr",
     "output_type": "stream",
     "text": [
      "WARNING:root:frame length (1103) is greater than FFT size (512), frame will be truncated. Increase NFFT to avoid.\n"
     ]
    },
    {
     "name": "stdout",
     "output_type": "stream",
     "text": [
      "Accuracy for 8-8: 0.0%, exp was: '4', preds: ['4']\n",
      "Accuracy for 99+20: 0.0%, exp was: '4', preds: ['4']\n"
     ]
    },
    {
     "name": "stderr",
     "output_type": "stream",
     "text": [
      "WARNING:root:frame length (1103) is greater than FFT size (512), frame will be truncated. Increase NFFT to avoid.\n"
     ]
    },
    {
     "name": "stdout",
     "output_type": "stream",
     "text": [
      "Accuracy for 9999+1: 0.0%, exp was: '4', preds: ['4']\n",
      "On beat_level: -10\n"
     ]
    },
    {
     "name": "stderr",
     "output_type": "stream",
     "text": [
      "WARNING:root:frame length (1103) is greater than FFT size (512), frame will be truncated. Increase NFFT to avoid.\n",
      "WARNING:root:frame length (1103) is greater than FFT size (512), frame will be truncated. Increase NFFT to avoid.\n"
     ]
    },
    {
     "name": "stdout",
     "output_type": "stream",
     "text": [
      "Accuracy for 1+1+1: 0.0%, exp was: '4', preds: ['4']\n"
     ]
    },
    {
     "name": "stderr",
     "output_type": "stream",
     "text": [
      "WARNING:root:frame length (1103) is greater than FFT size (512), frame will be truncated. Increase NFFT to avoid.\n"
     ]
    },
    {
     "name": "stdout",
     "output_type": "stream",
     "text": [
      "Accuracy for 1+5: 0.0%, exp was: '4', preds: ['4']\n",
      "Accuracy for 2+2: 0.0%, exp was: '4', preds: ['4']\n"
     ]
    },
    {
     "name": "stderr",
     "output_type": "stream",
     "text": [
      "WARNING:root:frame length (1103) is greater than FFT size (512), frame will be truncated. Increase NFFT to avoid.\n"
     ]
    },
    {
     "name": "stdout",
     "output_type": "stream",
     "text": [
      "Accuracy for 21-10: 0.0%, exp was: '4', preds: ['4']\n"
     ]
    },
    {
     "name": "stderr",
     "output_type": "stream",
     "text": [
      "WARNING:root:frame length (1103) is greater than FFT size (512), frame will be truncated. Increase NFFT to avoid.\n"
     ]
    },
    {
     "name": "stdout",
     "output_type": "stream",
     "text": [
      "Accuracy for 3+47: 0.0%, exp was: '4', preds: ['4']\n"
     ]
    },
    {
     "name": "stderr",
     "output_type": "stream",
     "text": [
      "WARNING:root:frame length (1103) is greater than FFT size (512), frame will be truncated. Increase NFFT to avoid.\n",
      "WARNING:root:frame length (1103) is greater than FFT size (512), frame will be truncated. Increase NFFT to avoid.\n"
     ]
    },
    {
     "name": "stdout",
     "output_type": "stream",
     "text": [
      "Accuracy for 31+29: 0.0%, exp was: '4', preds: ['4']\n"
     ]
    },
    {
     "name": "stderr",
     "output_type": "stream",
     "text": [
      "WARNING:root:frame length (1103) is greater than FFT size (512), frame will be truncated. Increase NFFT to avoid.\n"
     ]
    },
    {
     "name": "stdout",
     "output_type": "stream",
     "text": [
      "Accuracy for 6-2: 0.0%, exp was: '4', preds: ['4']\n"
     ]
    },
    {
     "name": "stderr",
     "output_type": "stream",
     "text": [
      "WARNING:root:frame length (1103) is greater than FFT size (512), frame will be truncated. Increase NFFT to avoid.\n"
     ]
    },
    {
     "name": "stdout",
     "output_type": "stream",
     "text": [
      "Accuracy for 8-8: 0.0%, exp was: '4', preds: ['4']\n",
      "Accuracy for 99+20: 0.0%, exp was: '4', preds: ['4']\n"
     ]
    },
    {
     "name": "stderr",
     "output_type": "stream",
     "text": [
      "WARNING:root:frame length (1103) is greater than FFT size (512), frame will be truncated. Increase NFFT to avoid.\n"
     ]
    },
    {
     "name": "stdout",
     "output_type": "stream",
     "text": [
      "Accuracy for 9999+1: 0.0%, exp was: '4', preds: ['4']\n",
      "On beat_level: -20\n"
     ]
    },
    {
     "name": "stderr",
     "output_type": "stream",
     "text": [
      "WARNING:root:frame length (1103) is greater than FFT size (512), frame will be truncated. Increase NFFT to avoid.\n",
      "WARNING:root:frame length (1103) is greater than FFT size (512), frame will be truncated. Increase NFFT to avoid.\n",
      "WARNING:root:frame length (1103) is greater than FFT size (512), frame will be truncated. Increase NFFT to avoid.\n",
      "WARNING:root:frame length (1103) is greater than FFT size (512), frame will be truncated. Increase NFFT to avoid.\n",
      "WARNING:root:frame length (1103) is greater than FFT size (512), frame will be truncated. Increase NFFT to avoid.\n",
      "WARNING:root:frame length (1103) is greater than FFT size (512), frame will be truncated. Increase NFFT to avoid.\n",
      "WARNING:root:frame length (1103) is greater than FFT size (512), frame will be truncated. Increase NFFT to avoid.\n",
      "WARNING:root:frame length (1103) is greater than FFT size (512), frame will be truncated. Increase NFFT to avoid.\n",
      "WARNING:root:frame length (1103) is greater than FFT size (512), frame will be truncated. Increase NFFT to avoid.\n",
      "WARNING:root:frame length (1103) is greater than FFT size (512), frame will be truncated. Increase NFFT to avoid.\n",
      "WARNING:root:frame length (1103) is greater than FFT size (512), frame will be truncated. Increase NFFT to avoid.\n",
      "WARNING:root:frame length (1103) is greater than FFT size (512), frame will be truncated. Increase NFFT to avoid.\n",
      "WARNING:root:frame length (1103) is greater than FFT size (512), frame will be truncated. Increase NFFT to avoid.\n",
      "WARNING:root:frame length (1103) is greater than FFT size (512), frame will be truncated. Increase NFFT to avoid.\n",
      "WARNING:root:frame length (1103) is greater than FFT size (512), frame will be truncated. Increase NFFT to avoid.\n",
      "WARNING:root:frame length (1103) is greater than FFT size (512), frame will be truncated. Increase NFFT to avoid.\n",
      "WARNING:root:frame length (1103) is greater than FFT size (512), frame will be truncated. Increase NFFT to avoid.\n"
     ]
    },
    {
     "name": "stdout",
     "output_type": "stream",
     "text": [
      "Accuracy for 1+1+1: 0.0%, exp was: '2 4 4 4 2 4 4 4 1 4', preds: ['2', '4', '4', '4', '2', '4', '4', '4', '1', '4']\n"
     ]
    },
    {
     "name": "stderr",
     "output_type": "stream",
     "text": [
      "WARNING:root:frame length (1103) is greater than FFT size (512), frame will be truncated. Increase NFFT to avoid.\n",
      "WARNING:root:frame length (1103) is greater than FFT size (512), frame will be truncated. Increase NFFT to avoid.\n",
      "WARNING:root:frame length (1103) is greater than FFT size (512), frame will be truncated. Increase NFFT to avoid.\n",
      "WARNING:root:frame length (1103) is greater than FFT size (512), frame will be truncated. Increase NFFT to avoid.\n",
      "WARNING:root:frame length (1103) is greater than FFT size (512), frame will be truncated. Increase NFFT to avoid.\n",
      "WARNING:root:frame length (1103) is greater than FFT size (512), frame will be truncated. Increase NFFT to avoid.\n",
      "WARNING:root:frame length (1103) is greater than FFT size (512), frame will be truncated. Increase NFFT to avoid.\n",
      "WARNING:root:frame length (1103) is greater than FFT size (512), frame will be truncated. Increase NFFT to avoid.\n"
     ]
    },
    {
     "name": "stdout",
     "output_type": "stream",
     "text": [
      "Accuracy for 1+5: 0.0%, exp was: '4 4 2 4 4 4 4', preds: ['4', '4', '2', '4', '4', '4', '4']\n"
     ]
    },
    {
     "name": "stderr",
     "output_type": "stream",
     "text": [
      "WARNING:root:frame length (1103) is greater than FFT size (512), frame will be truncated. Increase NFFT to avoid.\n",
      "WARNING:root:frame length (1103) is greater than FFT size (512), frame will be truncated. Increase NFFT to avoid.\n",
      "WARNING:root:frame length (1103) is greater than FFT size (512), frame will be truncated. Increase NFFT to avoid.\n"
     ]
    },
    {
     "name": "stdout",
     "output_type": "stream",
     "text": [
      "Accuracy for 2+2: 0.0%, exp was: '4 4 4 4 4 4 4 9', preds: ['4', '4', '4', '4', '4', '4', '4', '9']\n"
     ]
    },
    {
     "name": "stderr",
     "output_type": "stream",
     "text": [
      "WARNING:root:frame length (1103) is greater than FFT size (512), frame will be truncated. Increase NFFT to avoid.\n",
      "WARNING:root:frame length (1103) is greater than FFT size (512), frame will be truncated. Increase NFFT to avoid.\n",
      "WARNING:root:frame length (1103) is greater than FFT size (512), frame will be truncated. Increase NFFT to avoid.\n",
      "WARNING:root:frame length (1103) is greater than FFT size (512), frame will be truncated. Increase NFFT to avoid.\n",
      "WARNING:root:frame length (1103) is greater than FFT size (512), frame will be truncated. Increase NFFT to avoid.\n",
      "WARNING:root:frame length (1103) is greater than FFT size (512), frame will be truncated. Increase NFFT to avoid.\n",
      "WARNING:root:frame length (1103) is greater than FFT size (512), frame will be truncated. Increase NFFT to avoid.\n",
      "WARNING:root:frame length (1103) is greater than FFT size (512), frame will be truncated. Increase NFFT to avoid.\n",
      "WARNING:root:frame length (1103) is greater than FFT size (512), frame will be truncated. Increase NFFT to avoid.\n",
      "WARNING:root:frame length (1103) is greater than FFT size (512), frame will be truncated. Increase NFFT to avoid.\n"
     ]
    },
    {
     "name": "stdout",
     "output_type": "stream",
     "text": [
      "Accuracy for 21-10: 0.0%, exp was: '4 4 4 4 2 4 4 4 2 4 4', preds: ['4', '4', '4', '4', '2', '4', '4', '4', '2', '4', '4']\n"
     ]
    },
    {
     "name": "stderr",
     "output_type": "stream",
     "text": [
      "WARNING:root:frame length (1103) is greater than FFT size (512), frame will be truncated. Increase NFFT to avoid.\n",
      "WARNING:root:frame length (1103) is greater than FFT size (512), frame will be truncated. Increase NFFT to avoid.\n",
      "WARNING:root:frame length (1103) is greater than FFT size (512), frame will be truncated. Increase NFFT to avoid.\n",
      "WARNING:root:frame length (1103) is greater than FFT size (512), frame will be truncated. Increase NFFT to avoid.\n",
      "WARNING:root:frame length (1103) is greater than FFT size (512), frame will be truncated. Increase NFFT to avoid.\n",
      "WARNING:root:frame length (1103) is greater than FFT size (512), frame will be truncated. Increase NFFT to avoid.\n",
      "WARNING:root:frame length (1103) is greater than FFT size (512), frame will be truncated. Increase NFFT to avoid.\n"
     ]
    },
    {
     "name": "stdout",
     "output_type": "stream",
     "text": [
      "Accuracy for 3+47: 25.0%, exp was: '4 4 4 4 4 4 1 4 4', preds: ['4', '4', '4', '4', '4', '4', '1', '4', '4']\n"
     ]
    },
    {
     "name": "stderr",
     "output_type": "stream",
     "text": [
      "WARNING:root:frame length (1103) is greater than FFT size (512), frame will be truncated. Increase NFFT to avoid.\n",
      "WARNING:root:frame length (1103) is greater than FFT size (512), frame will be truncated. Increase NFFT to avoid.\n",
      "WARNING:root:frame length (1103) is greater than FFT size (512), frame will be truncated. Increase NFFT to avoid.\n",
      "WARNING:root:frame length (1103) is greater than FFT size (512), frame will be truncated. Increase NFFT to avoid.\n",
      "WARNING:root:frame length (1103) is greater than FFT size (512), frame will be truncated. Increase NFFT to avoid.\n",
      "WARNING:root:frame length (1103) is greater than FFT size (512), frame will be truncated. Increase NFFT to avoid.\n",
      "WARNING:root:frame length (1103) is greater than FFT size (512), frame will be truncated. Increase NFFT to avoid.\n",
      "WARNING:root:frame length (1103) is greater than FFT size (512), frame will be truncated. Increase NFFT to avoid.\n",
      "WARNING:root:frame length (1103) is greater than FFT size (512), frame will be truncated. Increase NFFT to avoid.\n"
     ]
    },
    {
     "name": "stdout",
     "output_type": "stream",
     "text": [
      "Accuracy for 31+29: 0.0%, exp was: '4 4 4 4 4 4 4', preds: ['4', '4', '4', '4', '4', '4', '4']\n"
     ]
    },
    {
     "name": "stderr",
     "output_type": "stream",
     "text": [
      "WARNING:root:frame length (1103) is greater than FFT size (512), frame will be truncated. Increase NFFT to avoid.\n",
      "WARNING:root:frame length (1103) is greater than FFT size (512), frame will be truncated. Increase NFFT to avoid.\n",
      "WARNING:root:frame length (1103) is greater than FFT size (512), frame will be truncated. Increase NFFT to avoid.\n",
      "WARNING:root:frame length (1103) is greater than FFT size (512), frame will be truncated. Increase NFFT to avoid.\n",
      "WARNING:root:frame length (1103) is greater than FFT size (512), frame will be truncated. Increase NFFT to avoid.\n",
      "WARNING:root:frame length (1103) is greater than FFT size (512), frame will be truncated. Increase NFFT to avoid.\n",
      "WARNING:root:frame length (1103) is greater than FFT size (512), frame will be truncated. Increase NFFT to avoid.\n",
      "WARNING:root:frame length (1103) is greater than FFT size (512), frame will be truncated. Increase NFFT to avoid.\n",
      "WARNING:root:frame length (1103) is greater than FFT size (512), frame will be truncated. Increase NFFT to avoid.\n",
      "WARNING:root:frame length (1103) is greater than FFT size (512), frame will be truncated. Increase NFFT to avoid.\n"
     ]
    },
    {
     "name": "stdout",
     "output_type": "stream",
     "text": [
      "Accuracy for 6-2: 0.0%, exp was: '4 4 4 4 4 1', preds: ['4', '4', '4', '4', '4', '1']\n"
     ]
    },
    {
     "name": "stderr",
     "output_type": "stream",
     "text": [
      "WARNING:root:frame length (1103) is greater than FFT size (512), frame will be truncated. Increase NFFT to avoid.\n"
     ]
    },
    {
     "name": "stdout",
     "output_type": "stream",
     "text": [
      "Accuracy for 8-8: 0.0%, exp was: '4 4 4 4 1 4', preds: ['4', '4', '4', '4', '1', '4']\n"
     ]
    },
    {
     "name": "stderr",
     "output_type": "stream",
     "text": [
      "WARNING:root:frame length (1103) is greater than FFT size (512), frame will be truncated. Increase NFFT to avoid.\n",
      "WARNING:root:frame length (1103) is greater than FFT size (512), frame will be truncated. Increase NFFT to avoid.\n",
      "WARNING:root:frame length (1103) is greater than FFT size (512), frame will be truncated. Increase NFFT to avoid.\n",
      "WARNING:root:frame length (1103) is greater than FFT size (512), frame will be truncated. Increase NFFT to avoid.\n",
      "WARNING:root:frame length (1103) is greater than FFT size (512), frame will be truncated. Increase NFFT to avoid.\n",
      "WARNING:root:frame length (1103) is greater than FFT size (512), frame will be truncated. Increase NFFT to avoid.\n",
      "WARNING:root:frame length (1103) is greater than FFT size (512), frame will be truncated. Increase NFFT to avoid.\n"
     ]
    },
    {
     "name": "stdout",
     "output_type": "stream",
     "text": [
      "Accuracy for 99+20: 0.0%, exp was: '4 4 4 4 4 4 9 4', preds: ['4', '4', '4', '4', '4', '4', '9', '4']\n"
     ]
    },
    {
     "name": "stderr",
     "output_type": "stream",
     "text": [
      "WARNING:root:frame length (1103) is greater than FFT size (512), frame will be truncated. Increase NFFT to avoid.\n",
      "WARNING:root:frame length (1103) is greater than FFT size (512), frame will be truncated. Increase NFFT to avoid.\n",
      "WARNING:root:frame length (1103) is greater than FFT size (512), frame will be truncated. Increase NFFT to avoid.\n",
      "WARNING:root:frame length (1103) is greater than FFT size (512), frame will be truncated. Increase NFFT to avoid.\n",
      "WARNING:root:frame length (1103) is greater than FFT size (512), frame will be truncated. Increase NFFT to avoid.\n",
      "WARNING:root:frame length (1103) is greater than FFT size (512), frame will be truncated. Increase NFFT to avoid.\n",
      "WARNING:root:frame length (1103) is greater than FFT size (512), frame will be truncated. Increase NFFT to avoid.\n",
      "WARNING:root:frame length (1103) is greater than FFT size (512), frame will be truncated. Increase NFFT to avoid.\n",
      "WARNING:root:frame length (1103) is greater than FFT size (512), frame will be truncated. Increase NFFT to avoid.\n",
      "WARNING:root:frame length (1103) is greater than FFT size (512), frame will be truncated. Increase NFFT to avoid.\n"
     ]
    },
    {
     "name": "stdout",
     "output_type": "stream",
     "text": [
      "Accuracy for 9999+1: 0.0%, exp was: '4 4 4 4 4 4 4 4 4 1', preds: ['4', '4', '4', '4', '4', '4', '4', '4', '4', '1']\n"
     ]
    }
   ],
   "source": [
    "accuracy_dict_calculator = {}\n",
    "\n",
    "for beat_level in beat_levels:\n",
    "    print(f\"On beat_level: {beat_level}\")\n",
    "    overlayed_segments = [getOverlayed(beat, segment=seg, level=beat_level) for seg in segments]\n",
    "    outputs = []\n",
    "    predictions = []\n",
    "    for i in range(len(filenames)):\n",
    "        chunks = splitFile(overlayed_segments[i])\n",
    "        expression, preds = extractAndMerge(chunks, debug=True, expected_length=len(filenames[i]), model=models2)\n",
    "        print(f\"Accuracy for {filenames[i]}: {getAccuracy(filenames[i], preds)}%,\", \n",
    "              f\"exp was: '{expression}', preds: {preds}\" )\n",
    "        try:\n",
    "            outputs.append(eval(expression))\n",
    "        except:\n",
    "            outputs.append(-21) # wrong\n",
    "        predictions.append(preds)\n",
    "    \n",
    "    accuracy_dict_calculator[beat_level] = [outputs, predictions]"
   ]
  },
  {
   "cell_type": "code",
   "execution_count": 440,
   "metadata": {},
   "outputs": [
    {
     "name": "stdout",
     "output_type": "stream",
     "text": [
      "accuracy for beat_level=20: 0.0%\n",
      "accuracy for beat_level=10: 0.0%\n",
      "accuracy for beat_level=0: 0.0%\n",
      "accuracy for beat_level=-10: 0.0%\n",
      "accuracy for beat_level=-20: 2.5%\n"
     ]
    }
   ],
   "source": [
    "for key, value in accuracy_dict_calculator.items():\n",
    "    print(f\"accuracy for beat_level={key}: {getAvgAcccuracy(filenames, value[1])}%\")"
   ]
  },
  {
   "cell_type": "markdown",
   "metadata": {},
   "source": [
    "#### 3.22 Accent issues. Type the same spoken calculation string commands into accent readers ([Read the words](https://www.readthewords.com/Try.aspx), [text2speech](https://www.text2speech.org/)) and download wav files for various accented speech. Upload these files onto drive and link them here as well. How well does the already trained HMM perform on these accented samples (Use functions from `3.14` and `3.15`)?"
   ]
  },
  {
   "cell_type": "code",
   "execution_count": null,
   "metadata": {},
   "outputs": [],
   "source": [
    "#code goes here"
   ]
  },
  {
   "cell_type": "markdown",
   "metadata": {},
   "source": [
    "_link to folder of accented samples goes here_"
   ]
  },
  {
   "cell_type": "markdown",
   "metadata": {},
   "source": [
    "#### 3.23 Quantity of data. How much data do you need to get a good classifier? For low resource languages, this is an important concern to deal with.\n",
    "\n",
    "#### On original digit and operator dataset, train HMM models using varying amounts of train data (10%, 20%..90%, 100% of the train samples for each digit and operator), and plot the performance on the complete test set for each of these levels (in one plot using `matplotlib` or `seaborn`)."
   ]
  },
  {
   "cell_type": "code",
   "execution_count": null,
   "metadata": {},
   "outputs": [],
   "source": [
    "#code goes here"
   ]
  },
  {
   "cell_type": "markdown",
   "metadata": {},
   "source": [
    "#### 3.24 For what percentages do you get the least, median and best performance?"
   ]
  },
  {
   "cell_type": "markdown",
   "metadata": {},
   "source": [
    "_answer in text goes here_"
   ]
  },
  {
   "cell_type": "markdown",
   "metadata": {},
   "source": [
    "#### Extra Credit\n",
    "\n",
    "#### 3.25 Data augmentation. We will augment the data with various noisy samples to improve performance of the model. Obtain noisy samples for the train set of digits and operators by overlaying `WhiteNoise` and `running_tap.wav`. Retrain the HMM models for each digit and operator using the noisy samples and the clean samples together. \n"
   ]
  },
  {
   "cell_type": "code",
   "execution_count": null,
   "metadata": {},
   "outputs": [],
   "source": [
    "#code goes here"
   ]
  },
  {
   "cell_type": "markdown",
   "metadata": {},
   "source": [
    "#### 3.26 Perform steps 3.16 to 3.19 again. Do you see any difference in performance?"
   ]
  },
  {
   "cell_type": "code",
   "execution_count": null,
   "metadata": {},
   "outputs": [],
   "source": [
    "#code goes here"
   ]
  },
  {
   "cell_type": "markdown",
   "metadata": {},
   "source": [
    "#### 3.27 What other method can you think of to augment the dataset? Some possibilities are accent (use the method in `3.18` and download samples for each digit and operator separately), echos, drops (the start or end of the spoken digit is cut off), speed etc.\n",
    "\n",
    "#### Note: You do not neccessarily need to think of something out of the list mentioned. "
   ]
  },
  {
   "cell_type": "markdown",
   "metadata": {},
   "source": [
    "_answer in text goes here_"
   ]
  },
  {
   "cell_type": "markdown",
   "metadata": {},
   "source": [
    "#### 3.28 Augment the train and test dataset using the method chosen above. Then retrain your HMM on the augmented train set and test on the augmented test set, and report the results, for augmentation of each digit and operator separately (use `3.8`) and for the spoken calculation string wave files (use `3.14` and `3.15`)."
   ]
  },
  {
   "cell_type": "code",
   "execution_count": null,
   "metadata": {},
   "outputs": [],
   "source": [
    "#code for each digit and operator train+test goes here"
   ]
  },
  {
   "cell_type": "code",
   "execution_count": null,
   "metadata": {},
   "outputs": [],
   "source": [
    "#code for spoken calculation string wave files goes here"
   ]
  },
  {
   "cell_type": "markdown",
   "metadata": {},
   "source": [
    "#### 3.29 Quantity of data. How much data do you need to augment to get a good classifier?\n",
    "\n",
    "#### This time augment the dataset by polluting 10%, 20%..90%, 100% of the train samples for each digit and operator. Include `x%` of the original train data where x are the three percentages levels obtained in `3.20`. \n",
    "\n",
    "#### _So, if your best performance was at 100%, worst at 10% and median at 70%, train HMM models for each digit and operator with the train set being (100% original +10% 20% samples augmented with noise), (100% original+20% samples augmented with noise) ... (100% original+ 100% samples augmented with noise), (70% original +10% 20% samples augmented with noise), (70% original+20% samples augmented with noise) ... (70% original+ 100% samples augmented with noise), (10% original +10% 20% samples augmented with noise), (10% original+20% samples augmented with noise) ... (10% original+ 100% samples augmented with noise)._\n",
    "\n",
    "#### Plot the performance on the complete test set (original+noise augmented) performance for each of these levels (in three plots, one each for `x%` clean train samples, using `matplotlib` or `seaborn`)."
   ]
  },
  {
   "cell_type": "code",
   "execution_count": null,
   "metadata": {},
   "outputs": [],
   "source": [
    "#code goes here"
   ]
  },
  {
   "cell_type": "markdown",
   "metadata": {},
   "source": [
    "#### 3.30 Which combination saw the highest jump in performance as compared to that in 3.19? Calculate the percentage increase in performance of the HMM model."
   ]
  },
  {
   "cell_type": "code",
   "execution_count": null,
   "metadata": {},
   "outputs": [],
   "source": [
    "#code goes here"
   ]
  }
 ],
 "metadata": {
  "kernelspec": {
   "display_name": "Python 3",
   "language": "python",
   "name": "python3"
  },
  "language_info": {
   "codemirror_mode": {
    "name": "ipython",
    "version": 3
   },
   "file_extension": ".py",
   "mimetype": "text/x-python",
   "name": "python",
   "nbconvert_exporter": "python",
   "pygments_lexer": "ipython3",
   "version": "3.7.6"
  }
 },
 "nbformat": 4,
 "nbformat_minor": 4
}
